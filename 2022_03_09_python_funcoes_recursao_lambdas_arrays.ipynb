{
 "cells": [
  {
   "cell_type": "markdown",
   "metadata": {},
   "source": [
    "# Instrutor do workshop\n",
    "\n",
    "Osvaldo Luiz dos Santos Pereira\n",
    "\n",
    "\n",
    "## Formação\n",
    "\n",
    "* graduação em bacharelado em física pela Unicamp\n",
    "* mestrado em física pela Unicamp\n",
    "* MBA em big data em analytics pela USP-Esalq (em andamento)\n",
    "* Doutorado em física pela UFRJ (em andamento)\n",
    "\n",
    "\n",
    "## Experiência profissional\n",
    "\n",
    "* Itaú Unibanco: analista de Pesquisa e desenvolvimento (P&D)\n",
    "* Itaú Unibanco: analista de risco de crédito\n",
    "* Kroton: consultor de produção de conteúdo\n",
    "* Kroton: criador de conteúdo (escritor)\n",
    "* Itaguaí Construções Navais: Cientista de Dados sr. (Especialista)\n",
    "* C&T: Especialista senior em ciência de dados\n",
    "* Hospital Sírio Libanês: Consultor senior especialista em ciência de dados\n",
    "* Fundador e CTO da sciencedata.ai\n",
    "* Coordenador de programa trainee Sciencedata.ai\n",
    "* Sua Música: Head of BI\n",
    "* Pesquisador convidado pela UFRJ (Física Teórica)\n",
    "\n",
    "## Áreas de interesse (pesquisa)\n",
    "\n",
    "* Física teórica\n",
    "* computação e informação quântica\n",
    "* machine learning clássico\n",
    "* machine learning quântico\n",
    "* deep learning\n",
    "* deep learning geométrico\n",
    "* Econofísica\n",
    "\n",
    "## Produção acadêmica\n",
    "\n",
    "* Livro de eletromagnetismo clássico (Editora Kroton)\n",
    "* Livro de mecânica geral (Editora Kroton)\n",
    "* Artigos técnicos em revistas indexadas em inglês\n",
    "* Artigos não técnicos em revistas digitais\n",
    "* Lecture notes (Português e inglês) em diversos assuntos técnicos\n",
    "\n",
    "\n",
    "## Consultorias em empresas\n",
    "\n",
    "* Samsung\n",
    "* Olist\n",
    "* Sky\n",
    "* Itaú-Unibanco\n",
    "* CeA\n",
    "* Cimed\n",
    "* IBM\n",
    "* Citibank\n",
    "* Nestlé\n",
    "* Bradesco\n",
    "* Centauro\n",
    "* FGC\n",
    "* FIESC\n",
    "* Equatorial\n",
    "* Green Yellow\n",
    "* Lendico\n",
    "* Aerocivil\n",
    "* Reciclare\n",
    "* Pipefy\n",
    "* Corteva (Grupo Dupont)\n",
    "* Evolve\n",
    "* Sysmap\n",
    "* Digisystem\n",
    "* TechforIT\n",
    "* Alstra\n",
    "* Atos\n",
    "* ImperioIT\n",
    "* Cognitivo\n",
    "* Wayon\n",
    "* KLB\n",
    "* Cognitivo"
   ]
  },
  {
   "cell_type": "markdown",
   "metadata": {},
   "source": [
    "# Resumo da aula\n",
    "\n",
    "* Funções\n",
    "* Números complexos\n",
    "* Recursão\n",
    "* Lambdas\n",
    "* arrays\n",
    "\n",
    "# Funções\n",
    "\n",
    "## Sintaxe e exemplos simples"
   ]
  },
  {
   "cell_type": "code",
   "execution_count": 1,
   "metadata": {
    "ExecuteTime": {
     "end_time": "2022-03-10T12:02:25.956321Z",
     "start_time": "2022-03-10T12:02:25.936561Z"
    }
   },
   "outputs": [
    {
     "name": "stdout",
     "output_type": "stream",
     "text": [
      "Hello World!\n"
     ]
    }
   ],
   "source": [
    "print('Hello World!')"
   ]
  },
  {
   "cell_type": "code",
   "execution_count": 2,
   "metadata": {
    "ExecuteTime": {
     "end_time": "2022-03-10T12:02:25.982422Z",
     "start_time": "2022-03-10T12:02:25.958853Z"
    }
   },
   "outputs": [
    {
     "data": {
      "text/plain": [
       "8"
      ]
     },
     "execution_count": 2,
     "metadata": {},
     "output_type": "execute_result"
    }
   ],
   "source": [
    "3+5"
   ]
  },
  {
   "cell_type": "code",
   "execution_count": 3,
   "metadata": {
    "ExecuteTime": {
     "end_time": "2022-03-10T12:02:25.991269Z",
     "start_time": "2022-03-10T12:02:25.983951Z"
    }
   },
   "outputs": [],
   "source": [
    "def hello_world():\n",
    "    print('Hello World!')"
   ]
  },
  {
   "cell_type": "code",
   "execution_count": 4,
   "metadata": {
    "ExecuteTime": {
     "end_time": "2022-03-10T12:02:26.000723Z",
     "start_time": "2022-03-10T12:02:25.993536Z"
    }
   },
   "outputs": [
    {
     "name": "stdout",
     "output_type": "stream",
     "text": [
      "Hello World!\n"
     ]
    }
   ],
   "source": [
    "hello_world()"
   ]
  },
  {
   "cell_type": "code",
   "execution_count": 5,
   "metadata": {
    "ExecuteTime": {
     "end_time": "2022-03-10T12:02:26.016579Z",
     "start_time": "2022-03-10T12:02:26.001720Z"
    }
   },
   "outputs": [],
   "source": [
    "def x_ao_quadrado(x):\n",
    "    return x * x"
   ]
  },
  {
   "cell_type": "code",
   "execution_count": 6,
   "metadata": {
    "ExecuteTime": {
     "end_time": "2022-03-10T12:02:26.029710Z",
     "start_time": "2022-03-10T12:02:26.017236Z"
    }
   },
   "outputs": [
    {
     "data": {
      "text/plain": [
       "4"
      ]
     },
     "execution_count": 6,
     "metadata": {},
     "output_type": "execute_result"
    }
   ],
   "source": [
    "x_ao_quadrado(2)"
   ]
  },
  {
   "cell_type": "code",
   "execution_count": 7,
   "metadata": {
    "ExecuteTime": {
     "end_time": "2022-03-10T12:02:26.041831Z",
     "start_time": "2022-03-10T12:02:26.030887Z"
    }
   },
   "outputs": [
    {
     "data": {
      "text/plain": [
       "9"
      ]
     },
     "execution_count": 7,
     "metadata": {},
     "output_type": "execute_result"
    }
   ],
   "source": [
    "x_ao_quadrado(3)"
   ]
  },
  {
   "cell_type": "code",
   "execution_count": 8,
   "metadata": {
    "ExecuteTime": {
     "end_time": "2022-03-10T12:02:26.055366Z",
     "start_time": "2022-03-10T12:02:26.042928Z"
    }
   },
   "outputs": [],
   "source": [
    "def f(x):\n",
    "    return x**3 + x**2"
   ]
  },
  {
   "cell_type": "code",
   "execution_count": 9,
   "metadata": {
    "ExecuteTime": {
     "end_time": "2022-03-10T12:02:26.067494Z",
     "start_time": "2022-03-10T12:02:26.056478Z"
    }
   },
   "outputs": [
    {
     "data": {
      "text/plain": [
       "12"
      ]
     },
     "execution_count": 9,
     "metadata": {},
     "output_type": "execute_result"
    }
   ],
   "source": [
    "f(2)"
   ]
  },
  {
   "cell_type": "code",
   "execution_count": 10,
   "metadata": {
    "ExecuteTime": {
     "end_time": "2022-03-10T12:02:26.083236Z",
     "start_time": "2022-03-10T12:02:26.069611Z"
    }
   },
   "outputs": [
    {
     "data": {
      "text/plain": [
       "12"
      ]
     },
     "execution_count": 10,
     "metadata": {},
     "output_type": "execute_result"
    }
   ],
   "source": [
    "2**3 + 2**2"
   ]
  },
  {
   "cell_type": "code",
   "execution_count": 11,
   "metadata": {
    "ExecuteTime": {
     "end_time": "2022-03-10T12:02:26.092880Z",
     "start_time": "2022-03-10T12:02:26.084827Z"
    }
   },
   "outputs": [],
   "source": [
    "def func(x, y, z):\n",
    "    print('x: ', x)\n",
    "    print('y: ', y)\n",
    "    print('z: ', z)\n",
    "\n",
    "    return (x * y)**z"
   ]
  },
  {
   "cell_type": "code",
   "execution_count": 12,
   "metadata": {
    "ExecuteTime": {
     "end_time": "2022-03-10T12:02:26.104517Z",
     "start_time": "2022-03-10T12:02:26.093877Z"
    }
   },
   "outputs": [
    {
     "name": "stdout",
     "output_type": "stream",
     "text": [
      "x:  1\n",
      "y:  3\n",
      "z:  4\n"
     ]
    },
    {
     "data": {
      "text/plain": [
       "81"
      ]
     },
     "execution_count": 12,
     "metadata": {},
     "output_type": "execute_result"
    }
   ],
   "source": [
    "func(1, 3, 4)"
   ]
  },
  {
   "cell_type": "code",
   "execution_count": 13,
   "metadata": {
    "ExecuteTime": {
     "end_time": "2022-03-10T12:02:26.112997Z",
     "start_time": "2022-03-10T12:02:26.105671Z"
    }
   },
   "outputs": [
    {
     "name": "stdout",
     "output_type": "stream",
     "text": [
      "x:  1\n",
      "y:  3\n",
      "z:  0\n"
     ]
    },
    {
     "data": {
      "text/plain": [
       "1"
      ]
     },
     "execution_count": 13,
     "metadata": {},
     "output_type": "execute_result"
    }
   ],
   "source": [
    "func(x = 1, y = 3, z = 0)"
   ]
  },
  {
   "cell_type": "code",
   "execution_count": 14,
   "metadata": {
    "ExecuteTime": {
     "end_time": "2022-03-10T12:02:26.230108Z",
     "start_time": "2022-03-10T12:02:26.114853Z"
    }
   },
   "outputs": [
    {
     "data": {
      "text/plain": [
       "'raíz complexa'"
      ]
     },
     "execution_count": 14,
     "metadata": {},
     "output_type": "execute_result"
    }
   ],
   "source": [
    "import numpy as np\n",
    "\n",
    "def raiz(a):\n",
    "    if a < 0:\n",
    "        return 'raíz complexa'\n",
    "    else:\n",
    "        return np.sqrt(a)\n",
    "\n",
    "raiz(-4)"
   ]
  },
  {
   "cell_type": "code",
   "execution_count": 15,
   "metadata": {
    "ExecuteTime": {
     "end_time": "2022-03-10T12:02:26.245760Z",
     "start_time": "2022-03-10T12:02:26.231913Z"
    }
   },
   "outputs": [
    {
     "name": "stdout",
     "output_type": "stream",
     "text": [
      "6\n"
     ]
    }
   ],
   "source": [
    "def sucessor(n):\n",
    "    n = n + 1\n",
    "    print(n)\n",
    "\n",
    "sucessor(5)"
   ]
  },
  {
   "cell_type": "code",
   "execution_count": 16,
   "metadata": {
    "ExecuteTime": {
     "end_time": "2022-03-10T12:02:26.267386Z",
     "start_time": "2022-03-10T12:02:26.247163Z"
    }
   },
   "outputs": [
    {
     "name": "stdout",
     "output_type": "stream",
     "text": [
      "7\n"
     ]
    }
   ],
   "source": [
    "sucessor(6)"
   ]
  },
  {
   "cell_type": "code",
   "execution_count": 17,
   "metadata": {
    "ExecuteTime": {
     "end_time": "2022-03-10T12:02:26.282472Z",
     "start_time": "2022-03-10T12:02:26.268600Z"
    }
   },
   "outputs": [
    {
     "name": "stdout",
     "output_type": "stream",
     "text": [
      "7\n"
     ]
    }
   ],
   "source": [
    "def sucessork(n,k):\n",
    "    n = n + k\n",
    "    print(n)\n",
    "    \n",
    "sucessork(5,2)"
   ]
  },
  {
   "cell_type": "code",
   "execution_count": 18,
   "metadata": {
    "ExecuteTime": {
     "end_time": "2022-03-10T12:02:26.295032Z",
     "start_time": "2022-03-10T12:02:26.283679Z"
    }
   },
   "outputs": [
    {
     "data": {
      "text/plain": [
       "0"
      ]
     },
     "execution_count": 18,
     "metadata": {},
     "output_type": "execute_result"
    }
   ],
   "source": [
    "4%2"
   ]
  },
  {
   "cell_type": "code",
   "execution_count": 19,
   "metadata": {
    "ExecuteTime": {
     "end_time": "2022-03-10T12:02:26.309869Z",
     "start_time": "2022-03-10T12:02:26.296143Z"
    }
   },
   "outputs": [
    {
     "data": {
      "text/plain": [
       "1"
      ]
     },
     "execution_count": 19,
     "metadata": {},
     "output_type": "execute_result"
    }
   ],
   "source": [
    "5%2"
   ]
  },
  {
   "cell_type": "code",
   "execution_count": 20,
   "metadata": {
    "ExecuteTime": {
     "end_time": "2022-03-10T12:02:26.318338Z",
     "start_time": "2022-03-10T12:02:26.310873Z"
    }
   },
   "outputs": [
    {
     "data": {
      "text/plain": [
       "0"
      ]
     },
     "execution_count": 20,
     "metadata": {},
     "output_type": "execute_result"
    }
   ],
   "source": [
    "6%2"
   ]
  },
  {
   "cell_type": "code",
   "execution_count": 21,
   "metadata": {
    "ExecuteTime": {
     "end_time": "2022-03-10T12:02:26.326669Z",
     "start_time": "2022-03-10T12:02:26.318955Z"
    }
   },
   "outputs": [
    {
     "name": "stdout",
     "output_type": "stream",
     "text": [
      "É um número ímpar:  5\n"
     ]
    }
   ],
   "source": [
    "def par_ou_nao(valor):\n",
    "    if (type(valor) != int):\n",
    "        print('Não é inteiro:', valor)\n",
    "    elif (valor % 2 == 0):\n",
    "        print('É um número par: ', valor)\n",
    "    elif (valor % 2 == 1):\n",
    "        print('É um número ímpar: ', valor)\n",
    "\n",
    "par_ou_nao(valor = 5)"
   ]
  },
  {
   "cell_type": "code",
   "execution_count": 22,
   "metadata": {
    "ExecuteTime": {
     "end_time": "2022-03-10T12:02:26.343051Z",
     "start_time": "2022-03-10T12:02:26.328202Z"
    }
   },
   "outputs": [
    {
     "data": {
      "text/plain": [
       "1"
      ]
     },
     "execution_count": 22,
     "metadata": {},
     "output_type": "execute_result"
    }
   ],
   "source": [
    "211%2"
   ]
  },
  {
   "cell_type": "markdown",
   "metadata": {},
   "source": [
    "## Calcula raízes do segundo grau\n",
    "\n",
    "Neste exemplo vamos criar um solucionador de equações do segundo grau\n",
    "\n",
    "\\begin{equation}\n",
    "\\nonumber ax^2 + bx + c = 0\n",
    "\\end{equation}\n",
    "\n",
    "Lembrando que devemos ter a condição de que $a \\neq 0$ para que a equação seja do\n",
    "segundo grau. A solução para esta equação é dada por\n",
    "\n",
    "\\begin{equation}\n",
    "\\nonumber x = \\frac{-b \\pm \\sqrt{b^2 - 4ac}}{2a}\n",
    "\\end{equation}\n",
    "\n",
    "Lembrando que para que as raízes sejam reais é necessário que o termo dentro da raiz quadrada seja sempre maior ou igual a zero. Este termo dentro da raíz quadrada é conhecido por discriminante e representado pela letra grega maiúscula delta $\\Delta$.\n",
    "\n",
    "\\begin{equation}\n",
    "\\nonumber \\Delta = b^2 - 4ac\n",
    "\\end{equation}\n",
    "\n",
    "O x do vértice $(x_V)$ é dado pela relação\n",
    "\n",
    "\\[x_V = - \\frac{b}{2a}\\]\n",
    "\n",
    "O y do vértice é dado pelo valor da função quadrática calculada no valor do x do vértice, ou seja\n",
    "\n",
    "\\[y_V = f(x_V) = ax_V^2 + bx_V + c\\]"
   ]
  },
  {
   "cell_type": "code",
   "execution_count": 23,
   "metadata": {
    "ExecuteTime": {
     "end_time": "2022-03-10T12:02:27.315934Z",
     "start_time": "2022-03-10T12:02:26.345284Z"
    }
   },
   "outputs": [],
   "source": [
    "from sympy import init_printing\n",
    "from sympy import *\n",
    "import sympy as sym\n",
    "import numpy as np\n",
    "import pandas as pd\n",
    "\n",
    "from sympy.abc import a, e, k, n, r, t, x, y, z, T, Z\n",
    "from sympy.abc import beta, omega, tau\n",
    "\n",
    "init_printing()\n",
    "sym.init_printing() "
   ]
  },
  {
   "cell_type": "code",
   "execution_count": 24,
   "metadata": {
    "ExecuteTime": {
     "end_time": "2022-03-10T12:02:27.331835Z",
     "start_time": "2022-03-10T12:02:27.317483Z"
    }
   },
   "outputs": [],
   "source": [
    "x = sym.Symbol('x')\n",
    "y = sym.Symbol('y')"
   ]
  },
  {
   "cell_type": "code",
   "execution_count": 25,
   "metadata": {
    "ExecuteTime": {
     "end_time": "2022-03-10T12:02:27.606703Z",
     "start_time": "2022-03-10T12:02:27.332980Z"
    }
   },
   "outputs": [
    {
     "ename": "NameError",
     "evalue": "name 'b' is not defined",
     "output_type": "error",
     "traceback": [
      "\u001b[1;31m---------------------------------------------------------------------------\u001b[0m",
      "\u001b[1;31mNameError\u001b[0m                                 Traceback (most recent call last)",
      "\u001b[1;32m~\\AppData\\Local\\Temp/ipykernel_35140/1962364876.py\u001b[0m in \u001b[0;36m<module>\u001b[1;34m\u001b[0m\n\u001b[1;32m----> 1\u001b[1;33m \u001b[1;33m(\u001b[0m\u001b[0ma\u001b[0m\u001b[1;33m+\u001b[0m\u001b[0mb\u001b[0m\u001b[1;33m)\u001b[0m\u001b[1;33m**\u001b[0m\u001b[1;36m2\u001b[0m\u001b[1;33m\u001b[0m\u001b[1;33m\u001b[0m\u001b[0m\n\u001b[0m",
      "\u001b[1;31mNameError\u001b[0m: name 'b' is not defined"
     ]
    }
   ],
   "source": [
    "(a+b)**2"
   ]
  },
  {
   "cell_type": "code",
   "execution_count": null,
   "metadata": {
    "ExecuteTime": {
     "end_time": "2022-03-10T12:02:27.609694Z",
     "start_time": "2022-03-10T12:02:27.609694Z"
    }
   },
   "outputs": [],
   "source": [
    "a,b = 1,2\n",
    "\n",
    "(a+b)**2"
   ]
  },
  {
   "cell_type": "code",
   "execution_count": null,
   "metadata": {
    "ExecuteTime": {
     "end_time": "2022-03-10T12:02:27.610413Z",
     "start_time": "2022-03-10T12:02:27.610413Z"
    }
   },
   "outputs": [],
   "source": [
    "sym.expand((x + y)**2)"
   ]
  },
  {
   "cell_type": "code",
   "execution_count": null,
   "metadata": {
    "ExecuteTime": {
     "end_time": "2022-03-10T12:02:27.611103Z",
     "start_time": "2022-03-10T12:02:27.611103Z"
    }
   },
   "outputs": [],
   "source": [
    "(x + x * y) / x"
   ]
  },
  {
   "cell_type": "code",
   "execution_count": null,
   "metadata": {
    "ExecuteTime": {
     "end_time": "2022-03-10T12:02:27.612418Z",
     "start_time": "2022-03-10T12:02:27.612418Z"
    }
   },
   "outputs": [],
   "source": [
    "sym.simplify((x + x * y) / x)"
   ]
  },
  {
   "cell_type": "code",
   "execution_count": null,
   "metadata": {
    "ExecuteTime": {
     "end_time": "2022-03-10T12:02:27.613428Z",
     "start_time": "2022-03-10T12:02:27.613428Z"
    }
   },
   "outputs": [],
   "source": [
    "x + x * y"
   ]
  },
  {
   "cell_type": "code",
   "execution_count": null,
   "metadata": {
    "ExecuteTime": {
     "end_time": "2022-03-10T12:02:27.614426Z",
     "start_time": "2022-03-10T12:02:27.614426Z"
    }
   },
   "outputs": [],
   "source": [
    "sym.factor((x + x * y))"
   ]
  },
  {
   "cell_type": "code",
   "execution_count": null,
   "metadata": {
    "ExecuteTime": {
     "end_time": "2022-03-10T12:02:27.615872Z",
     "start_time": "2022-03-10T12:02:27.615872Z"
    }
   },
   "outputs": [],
   "source": [
    "eq1 = x**2 + 2*x + 1\n",
    "\n",
    "eq1"
   ]
  },
  {
   "cell_type": "code",
   "execution_count": null,
   "metadata": {
    "ExecuteTime": {
     "end_time": "2022-03-10T12:02:27.617156Z",
     "start_time": "2022-03-10T12:02:27.617156Z"
    }
   },
   "outputs": [],
   "source": [
    "sym.factor(eq1)"
   ]
  },
  {
   "cell_type": "markdown",
   "metadata": {},
   "source": [
    "## Definir uma função para cálculo de equação do segundo grau"
   ]
  },
  {
   "cell_type": "code",
   "execution_count": null,
   "metadata": {
    "ExecuteTime": {
     "end_time": "2022-03-10T12:02:27.618774Z",
     "start_time": "2022-03-10T12:02:27.618774Z"
    }
   },
   "outputs": [],
   "source": [
    "x = sym.Symbol('x')\n",
    "y = sym.Symbol('y')\n",
    "a = sym.Symbol('a')\n",
    "b = sym.Symbol('b')\n",
    "c = sym.Symbol('c')"
   ]
  },
  {
   "cell_type": "code",
   "execution_count": null,
   "metadata": {
    "ExecuteTime": {
     "end_time": "2022-03-10T12:02:27.619795Z",
     "start_time": "2022-03-10T12:02:27.619795Z"
    }
   },
   "outputs": [],
   "source": [
    "a*x**2 + b*x + c*x**0"
   ]
  },
  {
   "cell_type": "code",
   "execution_count": null,
   "metadata": {
    "ExecuteTime": {
     "end_time": "2022-03-10T12:02:27.620833Z",
     "start_time": "2022-03-10T12:02:27.620833Z"
    }
   },
   "outputs": [],
   "source": [
    "discriminante = b**2 - 4*a*c\n",
    "\n",
    "discriminante"
   ]
  },
  {
   "cell_type": "code",
   "execution_count": null,
   "metadata": {
    "ExecuteTime": {
     "end_time": "2022-03-10T12:02:27.621934Z",
     "start_time": "2022-03-10T12:02:27.621934Z"
    }
   },
   "outputs": [],
   "source": [
    "a,b,c = 1,2,3\n",
    "\n",
    "discriminante = b**2 - 4*a*c\n",
    "\n",
    "discriminante"
   ]
  },
  {
   "cell_type": "code",
   "execution_count": null,
   "metadata": {
    "ExecuteTime": {
     "end_time": "2022-03-10T12:02:27.623233Z",
     "start_time": "2022-03-10T12:02:27.623233Z"
    }
   },
   "outputs": [],
   "source": [
    "def discriminante(a,b,c):\n",
    "    disc = b**2 - 4*a*c\n",
    "    return disc\n",
    "\n",
    "discriminante(1,2,3)"
   ]
  },
  {
   "cell_type": "code",
   "execution_count": null,
   "metadata": {
    "ExecuteTime": {
     "end_time": "2022-03-10T12:02:27.624245Z",
     "start_time": "2022-03-10T12:02:27.624245Z"
    }
   },
   "outputs": [],
   "source": [
    "np.sqrt(4)"
   ]
  },
  {
   "cell_type": "code",
   "execution_count": null,
   "metadata": {
    "ExecuteTime": {
     "end_time": "2022-03-10T12:02:27.625410Z",
     "start_time": "2022-03-10T12:02:27.625410Z"
    }
   },
   "outputs": [],
   "source": [
    "np.sqrt(9)"
   ]
  },
  {
   "cell_type": "code",
   "execution_count": null,
   "metadata": {
    "ExecuteTime": {
     "end_time": "2022-03-10T12:02:27.626493Z",
     "start_time": "2022-03-10T12:02:27.626493Z"
    }
   },
   "outputs": [],
   "source": [
    "np.sqrt(-4)"
   ]
  },
  {
   "cell_type": "code",
   "execution_count": null,
   "metadata": {
    "ExecuteTime": {
     "end_time": "2022-03-10T12:02:27.627679Z",
     "start_time": "2022-03-10T12:02:27.627679Z"
    }
   },
   "outputs": [],
   "source": [
    "pow(-4,1/2)"
   ]
  },
  {
   "cell_type": "code",
   "execution_count": null,
   "metadata": {
    "ExecuteTime": {
     "end_time": "2022-03-10T12:02:27.629988Z",
     "start_time": "2022-03-10T12:02:27.629988Z"
    }
   },
   "outputs": [],
   "source": [
    "j"
   ]
  },
  {
   "cell_type": "code",
   "execution_count": null,
   "metadata": {
    "ExecuteTime": {
     "end_time": "2022-03-10T12:02:27.631047Z",
     "start_time": "2022-03-10T12:02:27.631047Z"
    }
   },
   "outputs": [],
   "source": [
    "# a = parte real do número complexo\n",
    "# b =  parte imaginária do número complexo\n",
    "# j = raiz imaginária de -1\n",
    "z = a + bj"
   ]
  },
  {
   "cell_type": "code",
   "execution_count": null,
   "metadata": {
    "ExecuteTime": {
     "end_time": "2022-03-10T12:02:27.632046Z",
     "start_time": "2022-03-10T12:02:27.632046Z"
    }
   },
   "outputs": [],
   "source": [
    "z = 1 + 1j\n",
    "z"
   ]
  },
  {
   "cell_type": "code",
   "execution_count": null,
   "metadata": {
    "ExecuteTime": {
     "start_time": "2022-03-10T13:29:08.803Z"
    }
   },
   "outputs": [],
   "source": [
    "import numpy as np\n",
    "\n",
    "def equacao_segundo(a,b,c):\n",
    "    disc = b**2 - 4*a*c\n",
    "    x1 = (-b + np.sqrt(disc))/(2*a)\n",
    "    x2 = (-b - np.sqrt(disc))/(2*a)\n",
    "    \n",
    "    print('x1 =', x1)\n",
    "    print('x2 =', x2)\n",
    "    \n",
    "equacao_segundo(1,2,3)  "
   ]
  },
  {
   "cell_type": "code",
   "execution_count": null,
   "metadata": {
    "ExecuteTime": {
     "end_time": "2022-03-10T12:02:27.635025Z",
     "start_time": "2022-03-10T12:02:27.635025Z"
    }
   },
   "outputs": [],
   "source": [
    "def equacao_segundo(a,b,c):\n",
    "    disc = b**2 - 4*a*c\n",
    "    x1 = (-b + pow(disc,1/2))/(2*a)\n",
    "    x2 = (-b - pow(disc,1/2))/(2*a)\n",
    "    \n",
    "    print('x1 =', x1)\n",
    "    print('x2 =', x2)\n",
    "    \n",
    "equacao_segundo(1,2,3)  "
   ]
  },
  {
   "cell_type": "code",
   "execution_count": null,
   "metadata": {
    "ExecuteTime": {
     "end_time": "2022-03-10T12:02:27.635025Z",
     "start_time": "2022-03-10T12:02:27.635025Z"
    }
   },
   "outputs": [],
   "source": [
    "def eq_solver(a,b,c):\n",
    "    # \n",
    "    discriminante = b**2 - 4*a*c\n",
    "    if discriminante < 0: \n",
    "        return 'sem raízes reais'\n",
    "    else:\n",
    "        print('Discriminante = ', discriminante)\n",
    "        # \n",
    "        x1 = (-b + np.sqrt(discriminante))/(2*a)\n",
    "        x2 = (-b - np.sqrt(discriminante))/(2*a)\n",
    "\n",
    "        print('x1 =', x1)\n",
    "        print('x2 =', x2)\n",
    "\n",
    "        return x1, x2"
   ]
  },
  {
   "cell_type": "code",
   "execution_count": null,
   "metadata": {
    "ExecuteTime": {
     "end_time": "2022-03-10T12:02:27.637019Z",
     "start_time": "2022-03-10T12:02:27.637019Z"
    }
   },
   "outputs": [],
   "source": [
    "eq_solver(a = 1,b = 2,c = 1)"
   ]
  },
  {
   "cell_type": "code",
   "execution_count": null,
   "metadata": {
    "ExecuteTime": {
     "end_time": "2022-03-10T12:02:27.638017Z",
     "start_time": "2022-03-10T12:02:27.638017Z"
    }
   },
   "outputs": [],
   "source": [
    "eq_solver(a = 1,b = 2,c = 3)"
   ]
  },
  {
   "cell_type": "markdown",
   "metadata": {},
   "source": [
    "# Números complexos"
   ]
  },
  {
   "cell_type": "code",
   "execution_count": null,
   "metadata": {
    "ExecuteTime": {
     "end_time": "2022-03-10T12:02:27.639014Z",
     "start_time": "2022-03-10T12:02:27.639014Z"
    }
   },
   "outputs": [],
   "source": [
    "import cmath, math"
   ]
  },
  {
   "cell_type": "code",
   "execution_count": null,
   "metadata": {
    "ExecuteTime": {
     "end_time": "2022-03-10T12:02:27.640012Z",
     "start_time": "2022-03-10T12:02:27.640012Z"
    }
   },
   "outputs": [],
   "source": [
    "z = 1 + 1j\n",
    "\n",
    "z"
   ]
  },
  {
   "cell_type": "code",
   "execution_count": null,
   "metadata": {
    "ExecuteTime": {
     "end_time": "2022-03-10T12:02:27.641056Z",
     "start_time": "2022-03-10T12:02:27.641056Z"
    }
   },
   "outputs": [],
   "source": [
    "z = 2 + 3j\n",
    "z"
   ]
  },
  {
   "cell_type": "code",
   "execution_count": null,
   "metadata": {
    "ExecuteTime": {
     "end_time": "2022-03-10T12:02:27.641971Z",
     "start_time": "2022-03-10T12:02:27.641971Z"
    }
   },
   "outputs": [],
   "source": [
    "z = complex(2,3)\n",
    "z"
   ]
  },
  {
   "cell_type": "code",
   "execution_count": null,
   "metadata": {
    "ExecuteTime": {
     "end_time": "2022-03-10T12:02:27.643259Z",
     "start_time": "2022-03-10T12:02:27.643259Z"
    }
   },
   "outputs": [],
   "source": [
    "np.sqrt(z)"
   ]
  },
  {
   "cell_type": "code",
   "execution_count": null,
   "metadata": {
    "ExecuteTime": {
     "end_time": "2022-03-10T12:02:27.644258Z",
     "start_time": "2022-03-10T12:02:27.644258Z"
    }
   },
   "outputs": [],
   "source": [
    "z"
   ]
  },
  {
   "cell_type": "code",
   "execution_count": null,
   "metadata": {
    "ExecuteTime": {
     "end_time": "2022-03-10T12:02:27.645256Z",
     "start_time": "2022-03-10T12:02:27.645256Z"
    }
   },
   "outputs": [],
   "source": [
    "abs(-4)"
   ]
  },
  {
   "cell_type": "code",
   "execution_count": null,
   "metadata": {
    "ExecuteTime": {
     "end_time": "2022-03-10T12:02:27.646533Z",
     "start_time": "2022-03-10T12:02:27.646533Z"
    }
   },
   "outputs": [],
   "source": [
    "abs(z)"
   ]
  },
  {
   "cell_type": "code",
   "execution_count": null,
   "metadata": {
    "ExecuteTime": {
     "end_time": "2022-03-10T12:02:27.647555Z",
     "start_time": "2022-03-10T12:02:27.647555Z"
    }
   },
   "outputs": [],
   "source": [
    "np.sqrt(2**2 + 3**2)"
   ]
  },
  {
   "cell_type": "code",
   "execution_count": null,
   "metadata": {
    "ExecuteTime": {
     "end_time": "2022-03-10T12:02:27.648794Z",
     "start_time": "2022-03-10T12:02:27.648794Z"
    }
   },
   "outputs": [],
   "source": [
    "z.real"
   ]
  },
  {
   "cell_type": "code",
   "execution_count": null,
   "metadata": {
    "ExecuteTime": {
     "end_time": "2022-03-10T12:02:27.649855Z",
     "start_time": "2022-03-10T12:02:27.649855Z"
    }
   },
   "outputs": [],
   "source": [
    "z.imag"
   ]
  },
  {
   "cell_type": "code",
   "execution_count": null,
   "metadata": {
    "ExecuteTime": {
     "end_time": "2022-03-10T12:02:27.651079Z",
     "start_time": "2022-03-10T12:02:27.651079Z"
    }
   },
   "outputs": [],
   "source": [
    "z"
   ]
  },
  {
   "cell_type": "code",
   "execution_count": null,
   "metadata": {
    "ExecuteTime": {
     "end_time": "2022-03-10T12:02:27.652077Z",
     "start_time": "2022-03-10T12:02:27.652077Z"
    }
   },
   "outputs": [],
   "source": [
    "z.conjugate()"
   ]
  },
  {
   "cell_type": "code",
   "execution_count": null,
   "metadata": {
    "ExecuteTime": {
     "end_time": "2022-03-10T12:02:27.653075Z",
     "start_time": "2022-03-10T12:02:27.653075Z"
    }
   },
   "outputs": [],
   "source": [
    "z = 1 - 5j\n",
    "z"
   ]
  },
  {
   "cell_type": "code",
   "execution_count": null,
   "metadata": {
    "ExecuteTime": {
     "end_time": "2022-03-10T12:02:27.654072Z",
     "start_time": "2022-03-10T12:02:27.654072Z"
    }
   },
   "outputs": [],
   "source": [
    "z.conjugate()"
   ]
  },
  {
   "cell_type": "code",
   "execution_count": null,
   "metadata": {
    "ExecuteTime": {
     "end_time": "2022-03-10T12:02:27.656067Z",
     "start_time": "2022-03-10T12:02:27.656067Z"
    }
   },
   "outputs": [],
   "source": [
    "pow(z,2)"
   ]
  },
  {
   "cell_type": "code",
   "execution_count": null,
   "metadata": {
    "ExecuteTime": {
     "end_time": "2022-03-10T12:02:27.657065Z",
     "start_time": "2022-03-10T12:02:27.657065Z"
    }
   },
   "outputs": [],
   "source": [
    "pow(4,2)"
   ]
  },
  {
   "cell_type": "code",
   "execution_count": null,
   "metadata": {
    "ExecuteTime": {
     "end_time": "2022-03-10T12:02:27.657538Z",
     "start_time": "2022-03-10T12:02:27.657538Z"
    }
   },
   "outputs": [],
   "source": [
    "z = a + bj\n",
    "z**2 = ?\n",
    "\n",
    "(a + bj)**2 = a**2 + 2 a bj + (bj)**2 \n",
    "= a**2 + 2 a bj + b**2 j**2\n",
    "= a**2 + 2 a bj + b**2 (-1)"
   ]
  },
  {
   "cell_type": "code",
   "execution_count": null,
   "metadata": {
    "ExecuteTime": {
     "end_time": "2022-03-10T12:02:27.658698Z",
     "start_time": "2022-03-10T12:02:27.658698Z"
    }
   },
   "outputs": [],
   "source": [
    "z = 1 + 1j\n",
    "z"
   ]
  },
  {
   "cell_type": "code",
   "execution_count": null,
   "metadata": {
    "ExecuteTime": {
     "end_time": "2022-03-10T12:02:27.659695Z",
     "start_time": "2022-03-10T12:02:27.659695Z"
    }
   },
   "outputs": [],
   "source": [
    "pow(z,2)"
   ]
  },
  {
   "cell_type": "code",
   "execution_count": null,
   "metadata": {
    "ExecuteTime": {
     "end_time": "2022-03-10T12:02:27.661691Z",
     "start_time": "2022-03-10T12:02:27.661691Z"
    }
   },
   "outputs": [],
   "source": [
    "(1+1j)**2"
   ]
  },
  {
   "cell_type": "code",
   "execution_count": null,
   "metadata": {
    "ExecuteTime": {
     "end_time": "2022-03-10T12:02:27.661691Z",
     "start_time": "2022-03-10T12:02:27.661691Z"
    }
   },
   "outputs": [],
   "source": [
    "1**2 + 2*1*1j + (1j)**2"
   ]
  },
  {
   "cell_type": "code",
   "execution_count": null,
   "metadata": {
    "ExecuteTime": {
     "end_time": "2022-03-10T12:02:27.663146Z",
     "start_time": "2022-03-10T12:02:27.663146Z"
    }
   },
   "outputs": [],
   "source": [
    "z"
   ]
  },
  {
   "cell_type": "code",
   "execution_count": null,
   "metadata": {
    "ExecuteTime": {
     "end_time": "2022-03-10T12:02:27.664145Z",
     "start_time": "2022-03-10T12:02:27.664145Z"
    }
   },
   "outputs": [],
   "source": [
    "pow(z,1/2)"
   ]
  },
  {
   "cell_type": "code",
   "execution_count": null,
   "metadata": {
    "ExecuteTime": {
     "end_time": "2022-03-10T12:02:27.665142Z",
     "start_time": "2022-03-10T12:02:27.665142Z"
    }
   },
   "outputs": [],
   "source": [
    "j**2 = -1"
   ]
  },
  {
   "cell_type": "code",
   "execution_count": null,
   "metadata": {
    "ExecuteTime": {
     "end_time": "2022-03-10T12:02:27.666190Z",
     "start_time": "2022-03-10T12:02:27.666190Z"
    }
   },
   "outputs": [],
   "source": [
    "0 + 1j"
   ]
  },
  {
   "cell_type": "code",
   "execution_count": null,
   "metadata": {
    "ExecuteTime": {
     "end_time": "2022-03-10T12:02:27.667187Z",
     "start_time": "2022-03-10T12:02:27.667187Z"
    }
   },
   "outputs": [],
   "source": [
    "6.123233995736766e-17"
   ]
  },
  {
   "cell_type": "code",
   "execution_count": null,
   "metadata": {
    "ExecuteTime": {
     "end_time": "2022-03-10T12:02:27.668455Z",
     "start_time": "2022-03-10T12:02:27.668455Z"
    }
   },
   "outputs": [],
   "source": [
    "10**(-17) == 0"
   ]
  },
  {
   "cell_type": "code",
   "execution_count": null,
   "metadata": {
    "ExecuteTime": {
     "end_time": "2022-03-10T12:02:27.669506Z",
     "start_time": "2022-03-10T12:02:27.669506Z"
    }
   },
   "outputs": [],
   "source": [
    "pow(-1,1/2)"
   ]
  },
  {
   "cell_type": "markdown",
   "metadata": {},
   "source": [
    "## Mais exemplos"
   ]
  },
  {
   "cell_type": "code",
   "execution_count": null,
   "metadata": {
    "ExecuteTime": {
     "end_time": "2022-03-10T12:02:27.671501Z",
     "start_time": "2022-03-10T12:02:27.670503Z"
    }
   },
   "outputs": [],
   "source": [
    "def comparador(x , y):\n",
    "    if (x > y):\n",
    "        print(x, 'maior que ', y)\n",
    "    elif (x < y):\n",
    "        print(x, 'menor que ', y)\n",
    "    else:\n",
    "        print(x, 'igual a ', y)\n",
    "        \n",
    "comparador(1,1)\n",
    "comparador(10,1)\n",
    "comparador(1,10)"
   ]
  },
  {
   "cell_type": "code",
   "execution_count": null,
   "metadata": {
    "ExecuteTime": {
     "end_time": "2022-03-10T12:02:27.671877Z",
     "start_time": "2022-03-10T12:02:27.671877Z"
    }
   },
   "outputs": [],
   "source": [
    "def compara_string(texto_1, texto_2):\n",
    "    if (texto_1 == texto_2):\n",
    "        print('Textos iguais! (', texto_1, ')')\n",
    "    else:\n",
    "        print('Os textos são diferentes!', '(', texto_1, ')', ' diferente de ', '(', texto_2, ')')\n",
    "\n",
    "compara_string(texto_1 = 'aaa', texto_2 = 'aaa')\n",
    "compara_string(texto_1 = 'aaa', texto_2 = 'bb')"
   ]
  },
  {
   "cell_type": "markdown",
   "metadata": {},
   "source": [
    "# Recursão\n",
    "\n",
    "## Método para cálculo de fatorial usando iteração"
   ]
  },
  {
   "cell_type": "code",
   "execution_count": 26,
   "metadata": {
    "ExecuteTime": {
     "end_time": "2022-03-10T12:02:28.519229Z",
     "start_time": "2022-03-10T12:02:27.822389Z"
    }
   },
   "outputs": [
    {
     "data": {
      "image/png": "[encoded data removed]",
      "text/latex": [
       "$\\displaystyle 6$"
      ],
      "text/plain": [
       "6"
      ]
     },
     "execution_count": 26,
     "metadata": {},
     "output_type": "execute_result"
    }
   ],
   "source": [
    "def f(n):\n",
    "    n = n + 1\n",
    "    return n\n",
    "\n",
    "f(5)"
   ]
  },
  {
   "cell_type": "code",
   "execution_count": 27,
   "metadata": {
    "ExecuteTime": {
     "end_time": "2022-03-10T12:02:28.536844Z",
     "start_time": "2022-03-10T12:02:28.521251Z"
    }
   },
   "outputs": [
    {
     "data": {
      "image/png": "[encoded data removed]",
      "text/latex": [
       "$\\displaystyle 7$"
      ],
      "text/plain": [
       "7"
      ]
     },
     "execution_count": 27,
     "metadata": {},
     "output_type": "execute_result"
    }
   ],
   "source": [
    "f(f(5))"
   ]
  },
  {
   "cell_type": "code",
   "execution_count": 28,
   "metadata": {
    "ExecuteTime": {
     "end_time": "2022-03-10T12:02:28.550652Z",
     "start_time": "2022-03-10T12:02:28.537842Z"
    }
   },
   "outputs": [
    {
     "ename": "SyntaxError",
     "evalue": "cannot assign to function call (Temp/ipykernel_35140/2833886419.py, line 1)",
     "output_type": "error",
     "traceback": [
      "\u001b[1;36m  File \u001b[1;32m\"C:\\Users\\felip\\AppData\\Local\\Temp/ipykernel_35140/2833886419.py\"\u001b[1;36m, line \u001b[1;32m1\u001b[0m\n\u001b[1;33m    fat(n) = n*(n-1)*(n-2)*...*3*2*1\u001b[0m\n\u001b[1;37m    ^\u001b[0m\n\u001b[1;31mSyntaxError\u001b[0m\u001b[1;31m:\u001b[0m cannot assign to function call\n"
     ]
    }
   ],
   "source": [
    "fat(n) = n*(n-1)*(n-2)*...*3*2*1"
   ]
  },
  {
   "cell_type": "code",
   "execution_count": null,
   "metadata": {
    "ExecuteTime": {
     "end_time": "2022-03-10T12:02:28.551838Z",
     "start_time": "2022-03-10T12:02:28.551838Z"
    }
   },
   "outputs": [],
   "source": [
    "5*4*3*2*1"
   ]
  },
  {
   "cell_type": "markdown",
   "metadata": {},
   "source": [
    "## Exemplo do que não devemos fazer"
   ]
  },
  {
   "cell_type": "code",
   "execution_count": null,
   "metadata": {
    "ExecuteTime": {
     "end_time": "2022-03-10T12:02:28.552835Z",
     "start_time": "2022-03-10T12:02:28.552835Z"
    }
   },
   "outputs": [],
   "source": [
    "fat = 1\n",
    "n = 5\n",
    "\n",
    "for i in range(1,n+1):\n",
    "    fat = fat*i\n",
    "    #print (fat)\n",
    "\n",
    "fat"
   ]
  },
  {
   "cell_type": "code",
   "execution_count": null,
   "metadata": {
    "ExecuteTime": {
     "end_time": "2022-03-10T12:02:28.554072Z",
     "start_time": "2022-03-10T12:02:28.554072Z"
    }
   },
   "outputs": [],
   "source": [
    "def fatorial_it(n) :\n",
    "    k = 1\n",
    "    for i in range(1,n+1):\n",
    "        k = k * i\n",
    "    return k\n",
    "\n",
    "n = int(input('digite um número para n: '))\n",
    "print(n,'! = ',fatorial_it(n))"
   ]
  },
  {
   "cell_type": "markdown",
   "metadata": {},
   "source": [
    "## Fatorial"
   ]
  },
  {
   "cell_type": "code",
   "execution_count": null,
   "metadata": {
    "ExecuteTime": {
     "end_time": "2022-03-10T12:02:28.555270Z",
     "start_time": "2022-03-10T12:02:28.555270Z"
    }
   },
   "outputs": [],
   "source": [
    "def fatorial_1(n):\n",
    "        x = n-1\n",
    "        fat = fatorial_1(x)\n",
    "        return n*fat\n",
    "    \n",
    "fatorial_1(5)"
   ]
  },
  {
   "cell_type": "code",
   "execution_count": null,
   "metadata": {
    "ExecuteTime": {
     "end_time": "2022-03-10T12:02:28.556450Z",
     "start_time": "2022-03-10T12:02:28.556450Z"
    }
   },
   "outputs": [],
   "source": [
    "def fatorial_1(n):\n",
    "    if n <= 1:\n",
    "        return 1\n",
    "    else: \n",
    "        x = n-1\n",
    "        fat = fatorial_1(x)\n",
    "        return n*fat\n",
    "\n",
    "n = int(input('digite um valor para n:'))\n",
    "print(fatorial_1(n))"
   ]
  },
  {
   "cell_type": "code",
   "execution_count": null,
   "metadata": {
    "ExecuteTime": {
     "end_time": "2022-03-10T12:02:28.557572Z",
     "start_time": "2022-03-10T12:02:28.557572Z"
    }
   },
   "outputs": [],
   "source": [
    "def fatorial_2(n):\n",
    "    if n <= 1:\n",
    "        return 1\n",
    "    else: \n",
    "        return n * fatorial_2(n-1)\n",
    "\n",
    "n = int(input('digite um valor para n: '))\n",
    "print(fatorial_2(n))"
   ]
  },
  {
   "cell_type": "code",
   "execution_count": null,
   "metadata": {
    "ExecuteTime": {
     "end_time": "2022-03-10T12:02:28.558571Z",
     "start_time": "2022-03-10T12:02:28.558571Z"
    }
   },
   "outputs": [],
   "source": [
    "def fatorial_3(x):\n",
    "    fat = 1\n",
    "    for i in range(1, x + 1):\n",
    "        fat = fat * i\n",
    "    return fat\n",
    "\n",
    "n = int(input('digite um valor para n: '))\n",
    "print(fatorial_3(n))"
   ]
  },
  {
   "cell_type": "markdown",
   "metadata": {},
   "source": [
    "## Simples exemplo de recursão (soma acumulada)\n",
    "\n",
    "Python também aceita recursão de função, o que significa que uma função definida pode chamar a si mesma. A recursão é um conceito matemático e de programação comum. Isso significa que uma função chama a si mesma. O desenvolvedor deve ter muito cuidado com a recursão, pois pode ser muito fácil escrever uma função que nunca termina, ou que usa uma quantidade excessiva de memória ou potência do processador. No entanto, quando escrito corretamente, a recursão pode ser uma abordagem de programação muito eficiente e matematicamente elegante. Neste exemplo, recursao() é uma função que definimos para chamar a si mesma. Usamos a variável k como os dados, que diminui (-1) toda vez que recursamos. A recursão termina quando for igual a 0."
   ]
  },
  {
   "cell_type": "code",
   "execution_count": 29,
   "metadata": {
    "ExecuteTime": {
     "end_time": "2022-03-10T12:02:28.783954Z",
     "start_time": "2022-03-10T12:02:28.753928Z"
    }
   },
   "outputs": [
    {
     "name": "stdout",
     "output_type": "stream",
     "text": [
      "1\n",
      "3\n",
      "6\n",
      "10\n",
      "15\n",
      "21\n"
     ]
    },
    {
     "data": {
      "image/png": "[encoded data removed]",
      "text/latex": [
       "$\\displaystyle 21$"
      ],
      "text/plain": [
       "21"
      ]
     },
     "execution_count": 29,
     "metadata": {},
     "output_type": "execute_result"
    }
   ],
   "source": [
    "def recursao(k):\n",
    "    if(k > 0):\n",
    "        acumulado = k + recursao(k - 1)\n",
    "        print(acumulado)\n",
    "    else:\n",
    "        acumulado = 0\n",
    "    return acumulado\n",
    "\n",
    "recursao(6)"
   ]
  },
  {
   "cell_type": "code",
   "execution_count": 30,
   "metadata": {
    "ExecuteTime": {
     "end_time": "2022-03-10T12:02:28.806637Z",
     "start_time": "2022-03-10T12:02:28.785197Z"
    }
   },
   "outputs": [
    {
     "data": {
      "image/png": "[encoded data removed]",
      "text/latex": [
       "$\\displaystyle 0$"
      ],
      "text/plain": [
       "0"
      ]
     },
     "execution_count": 30,
     "metadata": {},
     "output_type": "execute_result"
    }
   ],
   "source": [
    "recursao(0)"
   ]
  },
  {
   "cell_type": "code",
   "execution_count": 31,
   "metadata": {
    "ExecuteTime": {
     "end_time": "2022-03-10T12:02:28.829789Z",
     "start_time": "2022-03-10T12:02:28.807730Z"
    }
   },
   "outputs": [
    {
     "name": "stdout",
     "output_type": "stream",
     "text": [
      "1\n"
     ]
    },
    {
     "data": {
      "image/png": "[encoded data removed]",
      "text/latex": [
       "$\\displaystyle 1$"
      ],
      "text/plain": [
       "1"
      ]
     },
     "execution_count": 31,
     "metadata": {},
     "output_type": "execute_result"
    }
   ],
   "source": [
    "recursao(1)"
   ]
  },
  {
   "cell_type": "code",
   "execution_count": 32,
   "metadata": {
    "ExecuteTime": {
     "end_time": "2022-03-10T12:02:28.850677Z",
     "start_time": "2022-03-10T12:02:28.830906Z"
    }
   },
   "outputs": [
    {
     "name": "stdout",
     "output_type": "stream",
     "text": [
      "1\n",
      "3\n"
     ]
    },
    {
     "data": {
      "image/png": "[encoded data removed]",
      "text/latex": [
       "$\\displaystyle 3$"
      ],
      "text/plain": [
       "3"
      ]
     },
     "execution_count": 32,
     "metadata": {},
     "output_type": "execute_result"
    }
   ],
   "source": [
    "recursao(2)"
   ]
  },
  {
   "cell_type": "markdown",
   "metadata": {},
   "source": [
    "## Calcula o mdc entre x e y"
   ]
  },
  {
   "cell_type": "code",
   "execution_count": 33,
   "metadata": {
    "ExecuteTime": {
     "end_time": "2022-03-10T12:02:29.083976Z",
     "start_time": "2022-03-10T12:02:29.067143Z"
    }
   },
   "outputs": [
    {
     "data": {
      "image/png": "[encoded data removed]",
      "text/latex": [
       "$\\displaystyle 5$"
      ],
      "text/plain": [
       "5"
      ]
     },
     "execution_count": 33,
     "metadata": {},
     "output_type": "execute_result"
    }
   ],
   "source": [
    "def mdc1(x, y):\n",
    "    while (y != 0):\n",
    "        (x, y) = (y, x % y)\n",
    "    return x\n",
    "\n",
    "mdc1(120, 25)"
   ]
  },
  {
   "cell_type": "code",
   "execution_count": 34,
   "metadata": {
    "ExecuteTime": {
     "end_time": "2022-03-10T12:02:29.103472Z",
     "start_time": "2022-03-10T12:02:29.085405Z"
    }
   },
   "outputs": [
    {
     "data": {
      "image/png": "[encoded data removed]",
      "text/latex": [
       "$\\displaystyle 4.8$"
      ],
      "text/plain": [
       "4.8"
      ]
     },
     "execution_count": 34,
     "metadata": {},
     "output_type": "execute_result"
    }
   ],
   "source": [
    "120/25"
   ]
  },
  {
   "cell_type": "code",
   "execution_count": 35,
   "metadata": {
    "ExecuteTime": {
     "end_time": "2022-03-10T12:02:29.127682Z",
     "start_time": "2022-03-10T12:02:29.104658Z"
    }
   },
   "outputs": [
    {
     "data": {
      "image/png": "[encoded data removed]",
      "text/latex": [
       "$\\displaystyle 24.0$"
      ],
      "text/plain": [
       "24.0"
      ]
     },
     "execution_count": 35,
     "metadata": {},
     "output_type": "execute_result"
    }
   ],
   "source": [
    "120/5"
   ]
  },
  {
   "cell_type": "code",
   "execution_count": 36,
   "metadata": {
    "ExecuteTime": {
     "end_time": "2022-03-10T12:02:29.150552Z",
     "start_time": "2022-03-10T12:02:29.129734Z"
    }
   },
   "outputs": [
    {
     "data": {
      "image/png": "[encoded data removed]",
      "text/latex": [
       "$\\displaystyle 5.0$"
      ],
      "text/plain": [
       "5.0"
      ]
     },
     "execution_count": 36,
     "metadata": {},
     "output_type": "execute_result"
    }
   ],
   "source": [
    "25/5"
   ]
  },
  {
   "cell_type": "code",
   "execution_count": null,
   "metadata": {
    "ExecuteTime": {
     "end_time": "2022-03-09T13:55:02.426731Z",
     "start_time": "2022-03-09T13:55:02.417786Z"
    }
   },
   "outputs": [],
   "source": []
  },
  {
   "cell_type": "code",
   "execution_count": 37,
   "metadata": {
    "ExecuteTime": {
     "end_time": "2022-03-10T12:02:29.167244Z",
     "start_time": "2022-03-10T12:02:29.151549Z"
    }
   },
   "outputs": [
    {
     "data": {
      "image/png": "[encoded data removed]",
      "text/latex": [
       "$\\displaystyle 2$"
      ],
      "text/plain": [
       "2"
      ]
     },
     "execution_count": 37,
     "metadata": {},
     "output_type": "execute_result"
    }
   ],
   "source": [
    "a = 1\n",
    "b = 2\n",
    "c = 3\n",
    "\n",
    "a = b\n",
    "b = a\n",
    "c = b\n",
    "\n",
    "c"
   ]
  },
  {
   "cell_type": "code",
   "execution_count": 38,
   "metadata": {
    "ExecuteTime": {
     "end_time": "2022-03-10T12:02:29.184951Z",
     "start_time": "2022-03-10T12:02:29.168319Z"
    }
   },
   "outputs": [
    {
     "data": {
      "image/png": "[encoded data removed]",
      "text/latex": [
       "$\\displaystyle 5$"
      ],
      "text/plain": [
       "5"
      ]
     },
     "execution_count": 38,
     "metadata": {},
     "output_type": "execute_result"
    }
   ],
   "source": [
    "def mdc2(x, y):\n",
    "    while (y != 0):\n",
    "        r = x % y\n",
    "        x = y\n",
    "        y = r\n",
    "    return x\n",
    "\n",
    "mdc2(120, 25)"
   ]
  },
  {
   "cell_type": "markdown",
   "metadata": {},
   "source": [
    "## Calcula o mmc entre x e y"
   ]
  },
  {
   "cell_type": "code",
   "execution_count": 39,
   "metadata": {
    "ExecuteTime": {
     "end_time": "2022-03-10T12:02:29.410797Z",
     "start_time": "2022-03-10T12:02:29.387876Z"
    }
   },
   "outputs": [
    {
     "data": {
      "image/png": "[encoded data removed]",
      "text/latex": [
       "$\\displaystyle 750$"
      ],
      "text/plain": [
       "750"
      ]
     },
     "execution_count": 39,
     "metadata": {},
     "output_type": "execute_result"
    }
   ],
   "source": [
    "def mmc1(x, y):\n",
    "    resultado = 1\n",
    "    while (resultado % x != 0) or (resultado % y != 0):\n",
    "        resultado = resultado + 1\n",
    "    return resultado\n",
    "\n",
    "mmc1(150, 125)"
   ]
  },
  {
   "cell_type": "code",
   "execution_count": 40,
   "metadata": {
    "ExecuteTime": {
     "end_time": "2022-03-10T12:02:29.436910Z",
     "start_time": "2022-03-10T12:02:29.412887Z"
    }
   },
   "outputs": [
    {
     "data": {
      "image/png": "[encoded data removed]",
      "text/latex": [
       "$\\displaystyle 750$"
      ],
      "text/plain": [
       "750"
      ]
     },
     "execution_count": 40,
     "metadata": {},
     "output_type": "execute_result"
    }
   ],
   "source": [
    "def mmc2(x, y):\n",
    "    resultado = x\n",
    "    while resultado % y != 0:\n",
    "        resultado = resultado + x\n",
    "    return resultado\n",
    "\n",
    "mmc2(150, 125)"
   ]
  },
  {
   "cell_type": "code",
   "execution_count": 41,
   "metadata": {
    "ExecuteTime": {
     "end_time": "2022-03-10T12:02:29.454884Z",
     "start_time": "2022-03-10T12:02:29.437908Z"
    }
   },
   "outputs": [
    {
     "data": {
      "image/png": "[encoded data removed]",
      "text/latex": [
       "$\\displaystyle 750$"
      ],
      "text/plain": [
       "750"
      ]
     },
     "execution_count": 41,
     "metadata": {},
     "output_type": "execute_result"
    }
   ],
   "source": [
    "def mmc3(x, y):\n",
    "    resultado = max(x, y)\n",
    "    while resultado % min(x, y) != 0:\n",
    "        resultado = resultado + max(x, y)\n",
    "    return resultado\n",
    "\n",
    "mmc3(150, 125)"
   ]
  },
  {
   "cell_type": "code",
   "execution_count": 42,
   "metadata": {
    "ExecuteTime": {
     "end_time": "2022-03-10T12:02:29.481265Z",
     "start_time": "2022-03-10T12:02:29.456397Z"
    }
   },
   "outputs": [
    {
     "data": {
      "image/png": "[encoded data removed]",
      "text/latex": [
       "$\\displaystyle 750$"
      ],
      "text/plain": [
       "750"
      ]
     },
     "execution_count": 42,
     "metadata": {},
     "output_type": "execute_result"
    }
   ],
   "source": [
    "def mmc4(x, y):\n",
    "    return int((x * y) / mdc2(x, y))\n",
    "\n",
    "mmc4(150, 125)"
   ]
  },
  {
   "cell_type": "code",
   "execution_count": 43,
   "metadata": {
    "ExecuteTime": {
     "end_time": "2022-03-10T12:02:29.500590Z",
     "start_time": "2022-03-10T12:02:29.482406Z"
    }
   },
   "outputs": [
    {
     "data": {
      "image/png": "[encoded data removed]",
      "text/latex": [
       "$\\displaystyle 750$"
      ],
      "text/plain": [
       "750"
      ]
     },
     "execution_count": 43,
     "metadata": {},
     "output_type": "execute_result"
    }
   ],
   "source": [
    "def mmc5(x, y):\n",
    "    if (x < y):\n",
    "        (x, y) = (y, x)\n",
    "    resultado = x\n",
    "    while resultado % y != 0:\n",
    "        resultado = resultado + x\n",
    "    return resultado\n",
    "\n",
    "mmc5(150, 125)"
   ]
  },
  {
   "cell_type": "markdown",
   "metadata": {},
   "source": [
    "## Função reverso de um número"
   ]
  },
  {
   "cell_type": "code",
   "execution_count": null,
   "metadata": {
    "ExecuteTime": {
     "start_time": "2022-03-10T12:02:29.691Z"
    }
   },
   "outputs": [],
   "source": [
    "def reverso(x):\n",
    "    rev = 0\n",
    "    while x >0:\n",
    "        rest = x % 10\n",
    "        x = x // 10\n",
    "        rev = rev * 10 + rest\n",
    "    return rev\n",
    "\n",
    "n = int(input())\n",
    "print(reverso(n))"
   ]
  },
  {
   "cell_type": "markdown",
   "metadata": {},
   "source": [
    "## Soma dos n primeiro naturais"
   ]
  },
  {
   "cell_type": "code",
   "execution_count": null,
   "metadata": {
    "ExecuteTime": {
     "start_time": "2022-03-10T12:11:39.891Z"
    }
   },
   "outputs": [],
   "source": [
    "1+2+3+4+5+...+100"
   ]
  },
  {
   "cell_type": "code",
   "execution_count": null,
   "metadata": {
    "ExecuteTime": {
     "start_time": "2022-03-10T12:11:41.919Z"
    }
   },
   "outputs": [],
   "source": [
    "soma = 0\n",
    "n = 10\n",
    "\n",
    "for i in range(0,n):\n",
    "    i = i + 1\n",
    "    soma = soma + i\n",
    "    print(i)\n",
    "    \n",
    "soma"
   ]
  },
  {
   "cell_type": "code",
   "execution_count": null,
   "metadata": {
    "ExecuteTime": {
     "start_time": "2022-03-10T12:02:29.989Z"
    }
   },
   "outputs": [],
   "source": [
    "def soma_n1(n):\n",
    "    soma = 0\n",
    "\n",
    "    for i in range(0,n):\n",
    "        i = i + 1\n",
    "        soma = soma + i\n",
    "    \n",
    "    return soma\n",
    "\n",
    "soma_n1(100)"
   ]
  },
  {
   "cell_type": "code",
   "execution_count": null,
   "metadata": {
    "ExecuteTime": {
     "start_time": "2022-03-10T12:02:29.994Z"
    }
   },
   "outputs": [],
   "source": [
    "def soma_n(n):\n",
    "    total, k = 0, 1\n",
    "    while k <= n:\n",
    "        total, k = total + k, k + 1\n",
    "    return total\n",
    "\n",
    "soma_n(100)"
   ]
  },
  {
   "cell_type": "code",
   "execution_count": null,
   "metadata": {
    "ExecuteTime": {
     "start_time": "2022-03-10T12:02:29.998Z"
    }
   },
   "outputs": [],
   "source": [
    "def fatorial_2(n):\n",
    "    if n <= 1:\n",
    "        return 1\n",
    "    else: \n",
    "        return n * fatorial_2(n-1)"
   ]
  },
  {
   "cell_type": "code",
   "execution_count": null,
   "metadata": {
    "ExecuteTime": {
     "start_time": "2022-03-10T12:02:30.003Z"
    }
   },
   "outputs": [],
   "source": [
    "soma"
   ]
  },
  {
   "cell_type": "code",
   "execution_count": null,
   "metadata": {
    "ExecuteTime": {
     "start_time": "2022-03-10T12:02:30.007Z"
    }
   },
   "outputs": [],
   "source": [
    "def somanrec(n):\n",
    "    if n <= 1:\n",
    "        return 1\n",
    "    else:\n",
    "        return n + somanrec(n-1)\n",
    "\n",
    "somanrec(100)"
   ]
  },
  {
   "cell_type": "markdown",
   "metadata": {},
   "source": [
    "## Soma dos n primeiros potências de 2 dos números naturais"
   ]
  },
  {
   "cell_type": "code",
   "execution_count": null,
   "metadata": {
    "ExecuteTime": {
     "start_time": "2022-03-10T12:02:30.303Z"
    }
   },
   "outputs": [],
   "source": [
    "1^k+2^k+3^k+4^k+5^k+...+n^k"
   ]
  },
  {
   "cell_type": "code",
   "execution_count": null,
   "metadata": {
    "ExecuteTime": {
     "start_time": "2022-03-10T12:02:30.307Z"
    }
   },
   "outputs": [],
   "source": [
    "def soma_nk(n,p):\n",
    "    total, k = 0, 1\n",
    "    while k <= n:\n",
    "        total, k = total + k**p, k + 1\n",
    "    return total\n",
    "\n",
    "soma_nk(3,2)"
   ]
  },
  {
   "cell_type": "code",
   "execution_count": null,
   "metadata": {
    "ExecuteTime": {
     "start_time": "2022-03-10T12:02:30.311Z"
    }
   },
   "outputs": [],
   "source": [
    "1**2 + 2**2 + 3**2"
   ]
  },
  {
   "cell_type": "code",
   "execution_count": null,
   "metadata": {
    "ExecuteTime": {
     "start_time": "2022-03-10T12:02:30.316Z"
    }
   },
   "outputs": [],
   "source": [
    "soma_nk(3,3)"
   ]
  },
  {
   "cell_type": "code",
   "execution_count": null,
   "metadata": {
    "ExecuteTime": {
     "start_time": "2022-03-10T12:02:30.320Z"
    }
   },
   "outputs": [],
   "source": [
    "1**3 + 2**3 + 3**3"
   ]
  },
  {
   "cell_type": "code",
   "execution_count": null,
   "metadata": {
    "ExecuteTime": {
     "start_time": "2022-03-10T12:02:30.324Z"
    }
   },
   "outputs": [],
   "source": [
    "import time\n",
    "\n",
    "start = time.time()\n",
    "soma_nk(1000,3)\n",
    "end = time.time()\n",
    "print(end - start)"
   ]
  },
  {
   "cell_type": "code",
   "execution_count": null,
   "metadata": {
    "ExecuteTime": {
     "start_time": "2022-03-10T12:02:30.328Z"
    }
   },
   "outputs": [],
   "source": [
    "def soma_nk(n,p):\n",
    "    if n <= 1:\n",
    "        return 1\n",
    "    else:\n",
    "        return n**p + soma_nk(n-1,p)\n",
    "\n",
    "soma_nk(3,2)"
   ]
  },
  {
   "cell_type": "markdown",
   "metadata": {},
   "source": [
    "## Sequência de Fibonacci\n",
    "\n",
    "A sequência de Fibonacci foi descoberta por Leonardo de Pisa em 1202 ao investigar a já famosa\n",
    "razão de ouro $(\\varphi)$. Neste trabalho ele descobriu a seguinte sequência de números:\n",
    "\n",
    "\\begin{equation}\n",
    "\\nonumber 1,\\;1,\\;2,\\;3,\\;5,\\;8,\\;13,\\;21,\\;34,\\;55,\\;89,\\;144,\\;\\ldots \n",
    "\\end{equation}\n",
    "\n",
    "A sequência acima é gerada recursivamente pela sequinte equação funcional.\n",
    "\n",
    "\\begin{equation}\n",
    "\\nonumber F(n+2) = F(n + 1) + F(n).\n",
    "\\end{equation}\n",
    "\n",
    "Obs.: A sequência de Fibonacci é usualmente iniciada com n = 1 e as condições de que F(1) = 1 \n",
    "e que F(2) = 1, porém muitas pessoas iniciam a sequência com n = 0 e que F(0) = 1 e que F(1) = 1.\n",
    "Nenhum dos dois modos está errado. Essa divergência acontece devido ao interminável debate se o\n",
    "número 0 faz parte ou não dos números naturais."
   ]
  },
  {
   "cell_type": "code",
   "execution_count": null,
   "metadata": {
    "ExecuteTime": {
     "start_time": "2022-03-10T12:02:30.615Z"
    }
   },
   "outputs": [],
   "source": [
    "def fibo(n):\n",
    "    if n <= 1:\n",
    "        return 1\n",
    "    else:\n",
    "        return(fibo(n-1) + fibo(n-2))\n",
    "n = int(input('digite um número para n: '))\n",
    "if n <= 0:\n",
    "    print('Insira um número inteiro maior que zero.')\n",
    "else:\n",
    "    print('Sequência de Fibonacci para n = ', n)\n",
    "    for i in range(n):\n",
    "        print(fibo(i))"
   ]
  },
  {
   "cell_type": "markdown",
   "metadata": {},
   "source": [
    "Sequência dos primeiros números naturais\n",
    "\n",
    "\\[S(n) = 1 + 2 + 3 + ... + n = \\sum_{k=1}^{n} k \\ \\to \\ f(k) = k\\]\n",
    "\n",
    "Sequência das potências k dos primeiros naturais\n",
    "\n",
    "\\[S_k(n) = 1^k + 2^k + 3^k + ... + n^k = \\sum_{a=1}^{n} a^k \\ \\to \\ f(k) = a^k\\]\n",
    "\n",
    "Função geradora da sequência de Fibonnaci\n",
    "\n",
    "\\[f(n+2) = f(n+1) + f(n)\\]"
   ]
  },
  {
   "cell_type": "code",
   "execution_count": null,
   "metadata": {
    "ExecuteTime": {
     "start_time": "2022-03-10T12:02:30.969Z"
    }
   },
   "outputs": [],
   "source": [
    "1 + 2 + 3 + ... + n\n",
    "1**k + 2**k + ... + n**k"
   ]
  },
  {
   "cell_type": "code",
   "execution_count": null,
   "metadata": {
    "ExecuteTime": {
     "start_time": "2022-03-10T12:02:30.973Z"
    }
   },
   "outputs": [],
   "source": [
    "def f(n):\n",
    "    f = n\n",
    "    return f\n",
    "    \n",
    "f(10)"
   ]
  },
  {
   "cell_type": "code",
   "execution_count": null,
   "metadata": {
    "ExecuteTime": {
     "start_time": "2022-03-10T12:02:30.977Z"
    }
   },
   "outputs": [],
   "source": [
    "def f(n):\n",
    "    f = n\n",
    "    return f\n",
    "\n",
    "def seq(n):\n",
    "    if n <=1:\n",
    "        return 1\n",
    "    else:\n",
    "        soma2 = 0\n",
    "        for x in range(0,n+1):\n",
    "            soma2 = soma2 + f(x)\n",
    "    return soma2\n",
    "    \n",
    "seq(100)"
   ]
  },
  {
   "cell_type": "code",
   "execution_count": null,
   "metadata": {
    "ExecuteTime": {
     "start_time": "2022-03-10T12:02:30.981Z"
    }
   },
   "outputs": [],
   "source": [
    "def f(n,k):\n",
    "    f = n**k\n",
    "    return f\n",
    "\n",
    "def seq(n,k):\n",
    "    if n <=1:\n",
    "        return 1\n",
    "    else:\n",
    "        soma = 0\n",
    "        for x in range(0,n+1):\n",
    "            soma = soma + f(x,k)\n",
    "    return soma\n",
    "    \n",
    "seq(3,3)"
   ]
  },
  {
   "cell_type": "markdown",
   "metadata": {},
   "source": [
    "# Lambdas\n",
    "\n",
    "A expressão lambda é mais útil como um atalho para def, quando você precisa inserir pequenos pedaços de código executável em locais onde as declarações são sintaticamente ilegais.\n",
    "\n",
    "## Comparando lambda vs função"
   ]
  },
  {
   "cell_type": "code",
   "execution_count": null,
   "metadata": {
    "ExecuteTime": {
     "start_time": "2022-03-10T12:02:31.247Z"
    }
   },
   "outputs": [],
   "source": [
    "def f(x, y, z):\n",
    "    return x + y + z\n",
    "\n",
    "f(2, 3, 4)"
   ]
  },
  {
   "cell_type": "code",
   "execution_count": null,
   "metadata": {
    "ExecuteTime": {
     "start_time": "2022-03-10T12:02:31.250Z"
    }
   },
   "outputs": [],
   "source": [
    "f = lambda x, y, z: x + y + z\n",
    "\n",
    "f(2, 3, 4)"
   ]
  },
  {
   "cell_type": "markdown",
   "metadata": {},
   "source": [
    "O trecho de código abaixo constrói uma lista de três funções incorporando expressões lambda dentro de um literal de lista; um def não funcionará dentro de uma lista literal, porque é uma declaração, não uma expressão. A codificação def equivalente exigiria nomes de funções temporários (que poderiam colidir com outros nomes) e definições de funções fora do contexto de uso pretendido (que pode estar distante):"
   ]
  },
  {
   "cell_type": "code",
   "execution_count": null,
   "metadata": {
    "ExecuteTime": {
     "start_time": "2022-03-10T12:02:31.497Z"
    }
   },
   "outputs": [],
   "source": [
    "L = [lambda x: x ** 2, lambda x: x ** 3, lambda x: x ** 4]\n",
    "\n",
    "for f in L:\n",
    "    print(f(2))"
   ]
  },
  {
   "cell_type": "code",
   "execution_count": null,
   "metadata": {
    "ExecuteTime": {
     "start_time": "2022-03-10T12:02:31.500Z"
    }
   },
   "outputs": [],
   "source": [
    "L"
   ]
  },
  {
   "cell_type": "code",
   "execution_count": null,
   "metadata": {
    "ExecuteTime": {
     "start_time": "2022-03-10T12:02:31.504Z"
    }
   },
   "outputs": [],
   "source": [
    "L[0]"
   ]
  },
  {
   "cell_type": "code",
   "execution_count": null,
   "metadata": {
    "ExecuteTime": {
     "start_time": "2022-03-10T12:02:31.508Z"
    }
   },
   "outputs": [],
   "source": [
    "L[1]"
   ]
  },
  {
   "cell_type": "code",
   "execution_count": null,
   "metadata": {
    "ExecuteTime": {
     "start_time": "2022-03-10T12:02:31.511Z"
    }
   },
   "outputs": [],
   "source": [
    "L[2]"
   ]
  },
  {
   "cell_type": "code",
   "execution_count": null,
   "metadata": {
    "ExecuteTime": {
     "start_time": "2022-03-10T12:02:31.515Z"
    }
   },
   "outputs": [],
   "source": [
    "# Retorna o valor da primeira lambda tendo como argumento o número dentro dos ()\n",
    "L[0](2)"
   ]
  },
  {
   "cell_type": "code",
   "execution_count": null,
   "metadata": {
    "ExecuteTime": {
     "start_time": "2022-03-10T12:02:31.519Z"
    }
   },
   "outputs": [],
   "source": [
    "# Retorna o valor da segunda lambda tendo como argumento o número dentro dos ()\n",
    "L[1](2)"
   ]
  },
  {
   "cell_type": "code",
   "execution_count": null,
   "metadata": {
    "ExecuteTime": {
     "start_time": "2022-03-10T12:02:31.522Z"
    }
   },
   "outputs": [],
   "source": [
    "# Retorna o valor da terceira lambda tendo como argumento o número dentro dos ()\n",
    "L[2](2)"
   ]
  },
  {
   "cell_type": "code",
   "execution_count": null,
   "metadata": {
    "ExecuteTime": {
     "start_time": "2022-03-10T12:02:31.526Z"
    }
   },
   "outputs": [],
   "source": [
    "def f1(x):\n",
    "    return x ** 2\n",
    "\n",
    "def f2(x):\n",
    "    return x ** 3\n",
    "\n",
    "def f3(x):\n",
    "    return x ** 4\n",
    "\n",
    "R = [f1, f2, f3]\n",
    "\n",
    "for f in R:\n",
    "    print(f(2))"
   ]
  },
  {
   "cell_type": "code",
   "execution_count": null,
   "metadata": {
    "ExecuteTime": {
     "start_time": "2022-03-10T12:02:31.529Z"
    }
   },
   "outputs": [],
   "source": [
    "# Retorna o valor da primeira função tendo como argumento o número dentro dos ()\n",
    "R[0](2)"
   ]
  },
  {
   "cell_type": "code",
   "execution_count": null,
   "metadata": {
    "ExecuteTime": {
     "start_time": "2022-03-10T12:02:31.533Z"
    }
   },
   "outputs": [],
   "source": [
    "# Retorna o valor da segunda função tendo como argumento o número dentro dos ()\n",
    "R[1](2)"
   ]
  },
  {
   "cell_type": "code",
   "execution_count": null,
   "metadata": {
    "ExecuteTime": {
     "start_time": "2022-03-10T12:02:31.537Z"
    }
   },
   "outputs": [],
   "source": [
    "# Retorna o valor da terceira função tendo como argumento o número dentro dos ()\n",
    "R[2](2)"
   ]
  },
  {
   "cell_type": "markdown",
   "metadata": {},
   "source": [
    "# Funções aninhadas\n",
    "\n",
    "## Exemplos simples - soma dos n primeiros naturais"
   ]
  },
  {
   "cell_type": "code",
   "execution_count": null,
   "metadata": {
    "ExecuteTime": {
     "start_time": "2022-03-10T12:02:31.778Z"
    }
   },
   "outputs": [],
   "source": [
    "total = 0 \n",
    "k = 1\n",
    "\n",
    "n = int(input(\"Digite um número inteiro positivo:\"))\n",
    "\n",
    "while k <= n:\n",
    "    total = total + k\n",
    "    k = k + 1\n",
    "    \n",
    "print(total)"
   ]
  },
  {
   "cell_type": "code",
   "execution_count": null,
   "metadata": {
    "ExecuteTime": {
     "start_time": "2022-03-10T12:02:31.782Z"
    }
   },
   "outputs": [],
   "source": [
    "def f(n,k):\n",
    "    f = n**k\n",
    "    return f\n",
    "\n",
    "def seq(n,k):\n",
    "    if n <=1:\n",
    "        return 1\n",
    "    else:\n",
    "        soma = 0\n",
    "        for x in range(0,n+1):\n",
    "            soma = soma + f(x,k)\n",
    "    return soma\n",
    "    \n",
    "seq(100,1)"
   ]
  },
  {
   "cell_type": "code",
   "execution_count": null,
   "metadata": {
    "ExecuteTime": {
     "start_time": "2022-03-10T12:02:31.786Z"
    }
   },
   "outputs": [],
   "source": [
    "def soma(n):\n",
    "    total = 0 \n",
    "    k = 1\n",
    "    while k <= n:\n",
    "        total = total + k\n",
    "        k = k + 1\n",
    "    return total\n",
    "\n",
    "soma(100)"
   ]
  },
  {
   "cell_type": "code",
   "execution_count": null,
   "metadata": {
    "ExecuteTime": {
     "start_time": "2022-03-10T12:02:31.790Z"
    }
   },
   "outputs": [],
   "source": [
    "def soma(n, term):\n",
    "    total = 0\n",
    "    k = 1\n",
    "    while k <= n:\n",
    "        total = total + term(k)\n",
    "        k = k + 1\n",
    "    return total\n",
    "\n",
    "def f(x):\n",
    "    return x\n",
    "\n",
    "soma(100, f)"
   ]
  },
  {
   "cell_type": "code",
   "execution_count": null,
   "metadata": {
    "ExecuteTime": {
     "start_time": "2022-03-10T12:02:31.794Z"
    }
   },
   "outputs": [],
   "source": [
    "def g(n, p, a, f):\n",
    "    total = 0\n",
    "    k = 1\n",
    "    for k in range(0,n+1):\n",
    "        total = total + f(k,p,a)\n",
    "        k = k + 1\n",
    "    return total\n",
    "\n",
    "def f(x,p,a):\n",
    "    return x**p + a\n",
    "\n",
    "g(100, 1, 0, f)"
   ]
  },
  {
   "cell_type": "markdown",
   "metadata": {},
   "source": [
    "# Arrays"
   ]
  },
  {
   "cell_type": "code",
   "execution_count": null,
   "metadata": {
    "ExecuteTime": {
     "start_time": "2022-03-10T12:02:32.040Z"
    }
   },
   "outputs": [],
   "source": [
    "import numpy as np\n",
    "import pandas as pd"
   ]
  },
  {
   "cell_type": "markdown",
   "metadata": {},
   "source": [
    "## Definindo matriz"
   ]
  },
  {
   "cell_type": "code",
   "execution_count": null,
   "metadata": {
    "ExecuteTime": {
     "start_time": "2022-03-10T12:02:32.285Z"
    }
   },
   "outputs": [],
   "source": [
    "A = [1,2,3]\n",
    "\n",
    "A = np.array(A)\n",
    "\n",
    "A"
   ]
  },
  {
   "cell_type": "code",
   "execution_count": null,
   "metadata": {
    "ExecuteTime": {
     "start_time": "2022-03-10T12:02:32.289Z"
    }
   },
   "outputs": [],
   "source": [
    "np.shape(A)"
   ]
  },
  {
   "cell_type": "code",
   "execution_count": null,
   "metadata": {
    "ExecuteTime": {
     "start_time": "2022-03-10T12:02:32.292Z"
    }
   },
   "outputs": [],
   "source": [
    "A = [[1],[2],[3]]\n",
    "\n",
    "A = np.array(A)\n",
    "\n",
    "A"
   ]
  },
  {
   "cell_type": "code",
   "execution_count": null,
   "metadata": {
    "ExecuteTime": {
     "start_time": "2022-03-10T12:02:32.296Z"
    }
   },
   "outputs": [],
   "source": [
    "np.shape(A)"
   ]
  },
  {
   "cell_type": "code",
   "execution_count": null,
   "metadata": {
    "ExecuteTime": {
     "start_time": "2022-03-10T12:02:32.300Z"
    }
   },
   "outputs": [],
   "source": [
    "# definindo uma matriz 2x3 chamada A\n",
    "A = [[1, 4, 5], \n",
    "    [-5, 8, 9]]\n",
    "\n",
    "A = np.array(A)\n",
    "\n",
    "A"
   ]
  },
  {
   "cell_type": "code",
   "execution_count": null,
   "metadata": {
    "ExecuteTime": {
     "start_time": "2022-03-10T12:02:32.303Z"
    }
   },
   "outputs": [],
   "source": [
    "np.shape(A)"
   ]
  },
  {
   "cell_type": "code",
   "execution_count": null,
   "metadata": {
    "ExecuteTime": {
     "start_time": "2022-03-10T12:02:32.307Z"
    }
   },
   "outputs": [],
   "source": [
    "A = ['a', 'b', 'c', 'd']"
   ]
  },
  {
   "cell_type": "code",
   "execution_count": null,
   "metadata": {
    "ExecuteTime": {
     "start_time": "2022-03-10T12:02:32.310Z"
    }
   },
   "outputs": [],
   "source": [
    "A[0]"
   ]
  },
  {
   "cell_type": "code",
   "execution_count": null,
   "metadata": {
    "ExecuteTime": {
     "start_time": "2022-03-10T12:02:32.314Z"
    }
   },
   "outputs": [],
   "source": [
    "A[1]"
   ]
  },
  {
   "cell_type": "code",
   "execution_count": null,
   "metadata": {
    "ExecuteTime": {
     "start_time": "2022-03-10T12:02:32.318Z"
    }
   },
   "outputs": [],
   "source": [
    "A = [['a'],[ 'b'], ['c'], ['d']]\n",
    "\n",
    "A = np.array(A)\n",
    "\n",
    "A"
   ]
  },
  {
   "cell_type": "code",
   "execution_count": null,
   "metadata": {
    "ExecuteTime": {
     "start_time": "2022-03-10T12:02:32.321Z"
    }
   },
   "outputs": [],
   "source": [
    "np.shape(A)"
   ]
  },
  {
   "cell_type": "code",
   "execution_count": null,
   "metadata": {
    "ExecuteTime": {
     "start_time": "2022-03-10T12:02:32.325Z"
    }
   },
   "outputs": [],
   "source": [
    "A[0]"
   ]
  },
  {
   "cell_type": "code",
   "execution_count": null,
   "metadata": {
    "ExecuteTime": {
     "start_time": "2022-03-10T12:02:32.329Z"
    }
   },
   "outputs": [],
   "source": [
    "A[0][0]"
   ]
  },
  {
   "cell_type": "code",
   "execution_count": null,
   "metadata": {
    "ExecuteTime": {
     "start_time": "2022-03-10T12:02:32.332Z"
    }
   },
   "outputs": [],
   "source": [
    "A = [['a1', 'a2', 'a3', 'a4'],\n",
    "     [ 'b1', 'b2', 'b3', 'b4'], \n",
    "     ['c1', 'c2', 'c3', 'c4'], \n",
    "     ['d1', 'd2', 'd3', 'd4']\n",
    "    ]\n",
    "\n",
    "A = np.array(A)\n",
    "\n",
    "A"
   ]
  },
  {
   "cell_type": "code",
   "execution_count": null,
   "metadata": {
    "ExecuteTime": {
     "start_time": "2022-03-10T12:02:32.336Z"
    }
   },
   "outputs": [],
   "source": [
    "np.shape(A)"
   ]
  },
  {
   "cell_type": "code",
   "execution_count": null,
   "metadata": {
    "ExecuteTime": {
     "start_time": "2022-03-10T12:02:32.340Z"
    }
   },
   "outputs": [],
   "source": [
    "# acessamos a primeira linha da matriz A(4x4)\n",
    "A[0]"
   ]
  },
  {
   "cell_type": "code",
   "execution_count": null,
   "metadata": {
    "ExecuteTime": {
     "start_time": "2022-03-10T12:02:32.344Z"
    }
   },
   "outputs": [],
   "source": [
    "# acessamos a segunda linha da matriz A(4x4)\n",
    "A[1]"
   ]
  },
  {
   "cell_type": "code",
   "execution_count": null,
   "metadata": {
    "ExecuteTime": {
     "start_time": "2022-03-10T12:02:32.347Z"
    }
   },
   "outputs": [],
   "source": [
    "# acessando a segunda coluna da matriz A(4x4)\n",
    "A[:,1]"
   ]
  },
  {
   "cell_type": "code",
   "execution_count": null,
   "metadata": {
    "ExecuteTime": {
     "start_time": "2022-03-10T12:02:32.352Z"
    }
   },
   "outputs": [],
   "source": [
    "A[2,:2]"
   ]
  },
  {
   "cell_type": "code",
   "execution_count": null,
   "metadata": {
    "ExecuteTime": {
     "start_time": "2022-03-10T12:02:32.356Z"
    }
   },
   "outputs": [],
   "source": [
    "A[1:,0]"
   ]
  },
  {
   "cell_type": "code",
   "execution_count": null,
   "metadata": {
    "ExecuteTime": {
     "start_time": "2022-03-10T12:02:32.360Z"
    }
   },
   "outputs": [],
   "source": [
    "A[0:,0]"
   ]
  },
  {
   "cell_type": "code",
   "execution_count": null,
   "metadata": {
    "ExecuteTime": {
     "start_time": "2022-03-10T12:02:32.364Z"
    }
   },
   "outputs": [],
   "source": [
    "A[2:,0]"
   ]
  },
  {
   "cell_type": "code",
   "execution_count": null,
   "metadata": {
    "ExecuteTime": {
     "start_time": "2022-03-10T12:02:32.369Z"
    }
   },
   "outputs": [],
   "source": [
    "A[2:,1]"
   ]
  },
  {
   "cell_type": "code",
   "execution_count": null,
   "metadata": {
    "ExecuteTime": {
     "start_time": "2022-03-10T12:02:32.373Z"
    }
   },
   "outputs": [],
   "source": [
    "v = A[2:,1]\n",
    "\n",
    "np.shape(v)"
   ]
  },
  {
   "cell_type": "code",
   "execution_count": null,
   "metadata": {
    "ExecuteTime": {
     "start_time": "2022-03-10T12:02:32.377Z"
    }
   },
   "outputs": [],
   "source": [
    "v[0]"
   ]
  },
  {
   "cell_type": "code",
   "execution_count": null,
   "metadata": {
    "ExecuteTime": {
     "start_time": "2022-03-10T12:02:32.381Z"
    }
   },
   "outputs": [],
   "source": [
    "v[1]"
   ]
  },
  {
   "cell_type": "markdown",
   "metadata": {},
   "source": [
    "## Entradas da matriz\n",
    "\n",
    "Em geral representamos uma matriz por uma letra maiúscula qualquer, e seus elementos pelos sub índices, em geral utilizamos letras romandas (m,n,p,q,i,j,k,l) para designar as linhas e colunas de uma matriz.\n",
    "\n",
    "\\[A_{ij} = \\begin{pmatrix} \n",
    "a_{11} & a_{12} \\\\ \n",
    "a_{21} & a_{22}\n",
    "\\end{pmatrix}\\]\n",
    "\n",
    "Por exemplo, o termo (11) da matriz é o termo $A_{11} = a_{11}$, o termo da primeira linha, e segunda coluna é o termo $A_{12} = a_{12}$. No Python, os contadores iniciam do zero por default, enquanto que em matemática, é comum utilizarmos o contador a partir de 1. Tomar cuidado com este tipo de detalhe."
   ]
  },
  {
   "cell_type": "code",
   "execution_count": null,
   "metadata": {
    "ExecuteTime": {
     "start_time": "2022-03-10T12:02:32.626Z"
    }
   },
   "outputs": [],
   "source": [
    "A"
   ]
  },
  {
   "cell_type": "code",
   "execution_count": null,
   "metadata": {
    "ExecuteTime": {
     "start_time": "2022-03-10T12:02:32.629Z"
    }
   },
   "outputs": [],
   "source": [
    "# verificando componentes da matriz A\n",
    "A[1][2]"
   ]
  },
  {
   "cell_type": "code",
   "execution_count": null,
   "metadata": {
    "ExecuteTime": {
     "start_time": "2022-03-10T12:02:32.633Z"
    }
   },
   "outputs": [],
   "source": [
    "# definir uma matriz de 3 linhas e 1 coluna\n",
    "B = [[1],[2],[3]]\n",
    "\n",
    "B = np.array(B)\n",
    "\n",
    "B"
   ]
  },
  {
   "cell_type": "code",
   "execution_count": null,
   "metadata": {
    "ExecuteTime": {
     "start_time": "2022-03-10T12:02:32.637Z"
    }
   },
   "outputs": [],
   "source": [
    "np.shape(B)"
   ]
  },
  {
   "cell_type": "code",
   "execution_count": null,
   "metadata": {
    "ExecuteTime": {
     "start_time": "2022-03-10T12:02:32.640Z"
    }
   },
   "outputs": [],
   "source": [
    "# definir uma matriz de 1 linha e 3 colunas\n",
    "C = [[1,2,3]]\n",
    "\n",
    "C = np.array(C)\n",
    "\n",
    "C"
   ]
  },
  {
   "cell_type": "code",
   "execution_count": null,
   "metadata": {
    "ExecuteTime": {
     "start_time": "2022-03-10T12:02:32.645Z"
    }
   },
   "outputs": [],
   "source": [
    "np.shape(C)"
   ]
  },
  {
   "cell_type": "code",
   "execution_count": null,
   "metadata": {
    "ExecuteTime": {
     "start_time": "2022-03-10T12:02:32.649Z"
    }
   },
   "outputs": [],
   "source": [
    "# [] = lista == vetor\n",
    "# [[]] = lista de lista == matriz\n",
    "# [[[]]] = lista de lista de lista == tensor"
   ]
  },
  {
   "cell_type": "code",
   "execution_count": null,
   "metadata": {
    "ExecuteTime": {
     "start_time": "2022-03-10T12:02:32.654Z"
    }
   },
   "outputs": [],
   "source": [
    "v = [1,2,3]\n",
    "\n",
    "v = np.array(v)\n",
    "\n",
    "v[0]"
   ]
  },
  {
   "cell_type": "code",
   "execution_count": null,
   "metadata": {
    "ExecuteTime": {
     "start_time": "2022-03-10T12:02:32.658Z"
    }
   },
   "outputs": [],
   "source": [
    "np.shape(v)"
   ]
  },
  {
   "cell_type": "code",
   "execution_count": null,
   "metadata": {
    "ExecuteTime": {
     "start_time": "2022-03-10T12:02:32.662Z"
    }
   },
   "outputs": [],
   "source": [
    "A = [[1,2,3] # --> primeira coluna\n",
    "    ]\n",
    "\n",
    "A = np.array(A)\n",
    "\n",
    "A"
   ]
  },
  {
   "cell_type": "code",
   "execution_count": null,
   "metadata": {
    "ExecuteTime": {
     "start_time": "2022-03-10T12:02:32.667Z"
    }
   },
   "outputs": [],
   "source": [
    "A = [[1,2,3], # --> primeira linha\n",
    "     [4,5,6], # --> segunda linha\n",
    "     [7,8,9]  # --> terceira linha\n",
    "    ]\n",
    "\n",
    "A = np.array(A)\n",
    "\n",
    "A"
   ]
  },
  {
   "cell_type": "code",
   "execution_count": null,
   "metadata": {
    "ExecuteTime": {
     "start_time": "2022-03-10T12:02:32.671Z"
    }
   },
   "outputs": [],
   "source": [
    "np.shape(A)"
   ]
  },
  {
   "cell_type": "code",
   "execution_count": null,
   "metadata": {
    "ExecuteTime": {
     "start_time": "2022-03-10T12:02:32.675Z"
    }
   },
   "outputs": [],
   "source": [
    "A[1][1]"
   ]
  },
  {
   "cell_type": "code",
   "execution_count": null,
   "metadata": {
    "ExecuteTime": {
     "start_time": "2022-03-10T12:02:32.679Z"
    }
   },
   "outputs": [],
   "source": [
    "A[2][1]"
   ]
  },
  {
   "cell_type": "code",
   "execution_count": null,
   "metadata": {
    "ExecuteTime": {
     "start_time": "2022-03-10T12:02:32.682Z"
    }
   },
   "outputs": [],
   "source": [
    "T = [[[1,2,3]]]\n",
    "\n",
    "T = np.array(T)\n",
    "\n",
    "T"
   ]
  },
  {
   "cell_type": "code",
   "execution_count": null,
   "metadata": {
    "ExecuteTime": {
     "start_time": "2022-03-10T12:02:32.686Z"
    }
   },
   "outputs": [],
   "source": [
    "np.shape(T)"
   ]
  },
  {
   "cell_type": "code",
   "execution_count": null,
   "metadata": {
    "ExecuteTime": {
     "start_time": "2022-03-10T12:02:32.690Z"
    }
   },
   "outputs": [],
   "source": [
    "# redefinindo componentes da matriz B\n",
    "B[1][2] = 3\n",
    "\n",
    "B[1][2]"
   ]
  },
  {
   "cell_type": "markdown",
   "metadata": {},
   "source": [
    "## Soma de matrizes\n",
    "\n",
    "Para somarmos duas ou mais matrizes, estas devem ter o mesmo número de linhas e de colunas, caso contrário, esta operação não funciona. Então, por exemplo se tivermos uma matriz $A(3x2)$, podemos somá-la à outra matriz $B(3x2)$, e esta soma é realizada termo a termo, ou seja, somamos da seguinte forma\n",
    "\n",
    "\\[C_{ij} = A_{ij} + B_{ij}\\]"
   ]
  },
  {
   "cell_type": "code",
   "execution_count": null,
   "metadata": {
    "ExecuteTime": {
     "start_time": "2022-03-10T12:02:32.929Z"
    }
   },
   "outputs": [],
   "source": [
    "# definindo matriz X 3x3\n",
    "X = [[12,7,3],\n",
    "    [4 ,5,6],\n",
    "    [7 ,8,9]]\n",
    "\n",
    "X = np.array(X)\n",
    "\n",
    "# definindo matriz Y 3x3\n",
    "Y = [[5,8,1],\n",
    "    [6,7,3],\n",
    "    [4,5,9]]\n",
    "\n",
    "Y = np.array(Y)\n",
    "\n",
    "Z = X + Y\n",
    "\n",
    "Z"
   ]
  },
  {
   "cell_type": "code",
   "execution_count": null,
   "metadata": {
    "ExecuteTime": {
     "start_time": "2022-03-10T12:02:32.934Z"
    }
   },
   "outputs": [],
   "source": [
    "X"
   ]
  },
  {
   "cell_type": "code",
   "execution_count": null,
   "metadata": {
    "ExecuteTime": {
     "start_time": "2022-03-10T12:02:32.938Z"
    }
   },
   "outputs": [],
   "source": [
    "Y"
   ]
  },
  {
   "cell_type": "code",
   "execution_count": null,
   "metadata": {
    "ExecuteTime": {
     "start_time": "2022-03-10T12:02:32.942Z"
    }
   },
   "outputs": [],
   "source": [
    "X[0][0]"
   ]
  },
  {
   "cell_type": "code",
   "execution_count": null,
   "metadata": {
    "ExecuteTime": {
     "start_time": "2022-03-10T12:02:32.945Z"
    }
   },
   "outputs": [],
   "source": [
    "Y[0][0]"
   ]
  },
  {
   "cell_type": "code",
   "execution_count": null,
   "metadata": {
    "ExecuteTime": {
     "start_time": "2022-03-10T12:02:32.949Z"
    }
   },
   "outputs": [],
   "source": [
    "z00 = X[0][0] + Y[0][0]\n",
    "\n",
    "z00"
   ]
  },
  {
   "cell_type": "code",
   "execution_count": null,
   "metadata": {
    "ExecuteTime": {
     "start_time": "2022-03-10T12:02:32.953Z"
    }
   },
   "outputs": [],
   "source": [
    "Z"
   ]
  },
  {
   "cell_type": "code",
   "execution_count": null,
   "metadata": {
    "ExecuteTime": {
     "start_time": "2022-03-10T12:02:32.957Z"
    }
   },
   "outputs": [],
   "source": [
    "Z[0][0]"
   ]
  },
  {
   "cell_type": "markdown",
   "metadata": {},
   "source": [
    "## Exemplo de soma que não dá certo\n",
    "\n",
    "Neste exemplo, vamos somar duas matrizes com diferentes quantidades de linhas e colunas, e vamos ver que esta operação resulta em erro"
   ]
  },
  {
   "cell_type": "code",
   "execution_count": null,
   "metadata": {
    "ExecuteTime": {
     "start_time": "2022-03-10T12:02:33.192Z"
    }
   },
   "outputs": [],
   "source": [
    "X = [[1,2],[3,4]]\n",
    "\n",
    "X = np.array(X)\n",
    "\n",
    "X"
   ]
  },
  {
   "cell_type": "code",
   "execution_count": null,
   "metadata": {
    "ExecuteTime": {
     "start_time": "2022-03-10T12:02:33.195Z"
    }
   },
   "outputs": [],
   "source": [
    "Y = [[1,2,3,4]]\n",
    "\n",
    "Y = np.array(Y)\n",
    "\n",
    "Y"
   ]
  },
  {
   "cell_type": "code",
   "execution_count": null,
   "metadata": {
    "ExecuteTime": {
     "start_time": "2022-03-10T12:02:33.199Z"
    }
   },
   "outputs": [],
   "source": [
    "Z = X + Y"
   ]
  },
  {
   "cell_type": "markdown",
   "metadata": {},
   "source": [
    "## Exemplos de geração de matrizes"
   ]
  },
  {
   "cell_type": "code",
   "execution_count": null,
   "metadata": {
    "ExecuteTime": {
     "start_time": "2022-03-10T12:02:33.442Z"
    }
   },
   "outputs": [],
   "source": [
    "# definindo matriz nula/inicializando uma matriz com entradas igual a 0\n",
    "Z = np.zeros((3,3))\n",
    "\n",
    "Z"
   ]
  },
  {
   "cell_type": "code",
   "execution_count": null,
   "metadata": {
    "ExecuteTime": {
     "start_time": "2022-03-10T12:02:33.446Z"
    }
   },
   "outputs": [],
   "source": [
    "I = np.identity(3)\n",
    "\n",
    "I"
   ]
  },
  {
   "cell_type": "markdown",
   "metadata": {},
   "source": [
    "# Matriz inversa\n",
    "\n",
    "A matriz inversa só existe no caso de matrizes quadradas que não são singulares. Uma matriz não singular é definida como uma matriz qualquer que tenha o valor do determinante diferente de zero. Em outras palavras, a matriz inversa de uma matriz qualquer só existe no caso do determinante ser não nulo. Como propriedade de matrizes não singulares quadradas, tem-se que\n",
    "\n",
    "\\[A . A^{-1} = A^{-1} . A = I\\]\n",
    "\n",
    "sendo $A$ uma matriz quadrada nxn, $A^{-1}$ a matriz inversa de $A$, e $I$ a matriz inversa de I."
   ]
  },
  {
   "cell_type": "code",
   "execution_count": null,
   "metadata": {
    "ExecuteTime": {
     "start_time": "2022-03-10T12:02:33.687Z"
    }
   },
   "outputs": [],
   "source": [
    "X = [[12,7,3],\n",
    "    [4 ,5,6],\n",
    "    [7 ,8,9]]\n",
    "\n",
    "X = np.array(X)\n",
    "\n",
    "X"
   ]
  },
  {
   "cell_type": "code",
   "execution_count": null,
   "metadata": {
    "ExecuteTime": {
     "start_time": "2022-03-10T12:02:33.691Z"
    }
   },
   "outputs": [],
   "source": [
    "det_X = np.linalg.det(X)\n",
    "\n",
    "det_X"
   ]
  },
  {
   "cell_type": "code",
   "execution_count": null,
   "metadata": {
    "ExecuteTime": {
     "start_time": "2022-03-10T12:02:33.695Z"
    }
   },
   "outputs": [],
   "source": [
    "inv_X = np.linalg.inv(X)\n",
    "\n",
    "inv_X"
   ]
  },
  {
   "cell_type": "code",
   "execution_count": null,
   "metadata": {
    "ExecuteTime": {
     "start_time": "2022-03-10T12:02:33.698Z"
    }
   },
   "outputs": [],
   "source": [
    "np.matmul(X,inv_X)"
   ]
  },
  {
   "cell_type": "code",
   "execution_count": null,
   "metadata": {
    "ExecuteTime": {
     "start_time": "2022-03-10T12:02:33.702Z"
    }
   },
   "outputs": [],
   "source": [
    "np.matmul(inv_X,X)"
   ]
  },
  {
   "cell_type": "code",
   "execution_count": null,
   "metadata": {
    "ExecuteTime": {
     "start_time": "2022-03-10T12:02:33.706Z"
    }
   },
   "outputs": [],
   "source": [
    "3*4 == 4*3"
   ]
  },
  {
   "cell_type": "markdown",
   "metadata": {},
   "source": [
    "## Definindo matrizes usando loop"
   ]
  },
  {
   "cell_type": "code",
   "execution_count": null,
   "metadata": {
    "ExecuteTime": {
     "start_time": "2022-03-10T12:02:33.970Z"
    }
   },
   "outputs": [],
   "source": [
    "X = [[12,7,3],\n",
    "    [4 ,5,6],\n",
    "    [7 ,8,9]]\n",
    "\n",
    "X = np.array(X)\n",
    "\n",
    "# definindo matriz Y 3x3\n",
    "Y = [[5,8,1],\n",
    "    [6,7,3],\n",
    "    [4,5,9]]\n",
    "\n",
    "Y = np.array(Y)\n",
    "\n",
    "# definindo uma nova matriz somando duas matrizes\n",
    "# utilizando um loop for\n",
    "# iterando nas linhas\n",
    "for i in range(len(X)):\n",
    "    # iterando nas colunas\n",
    "    for j in range(len(X[0])):\n",
    "        Z[i][j] = X[i][j] + Y[i][j]\n",
    "\n",
    "for r in Z:\n",
    "    print(r)"
   ]
  },
  {
   "cell_type": "markdown",
   "metadata": {},
   "source": [
    "## Matriz transposta\n",
    "\n",
    "A matriz transposta inverte linhas e colunas de uma matriz, ou seja dada uma matriz A (nxm) transformamos as linhas de A em colunas, e as colunas de A em linhas."
   ]
  },
  {
   "cell_type": "code",
   "execution_count": null,
   "metadata": {
    "ExecuteTime": {
     "start_time": "2022-03-10T12:02:34.218Z"
    }
   },
   "outputs": [],
   "source": [
    "X = [[12,7],\n",
    "    [4 ,5],\n",
    "    [3 ,8]]\n",
    "\n",
    "X = np.array(X)\n",
    "\n",
    "X"
   ]
  },
  {
   "cell_type": "code",
   "execution_count": null,
   "metadata": {
    "ExecuteTime": {
     "start_time": "2022-03-10T12:02:34.222Z"
    }
   },
   "outputs": [],
   "source": [
    "np.shape(X)"
   ]
  },
  {
   "cell_type": "code",
   "execution_count": null,
   "metadata": {
    "ExecuteTime": {
     "start_time": "2022-03-10T12:02:34.225Z"
    }
   },
   "outputs": [],
   "source": [
    "# usando função transpose do numpy\n",
    "Xt = np.transpose(X)\n",
    "\n",
    "Xt"
   ]
  },
  {
   "cell_type": "code",
   "execution_count": null,
   "metadata": {
    "ExecuteTime": {
     "start_time": "2022-03-10T12:02:34.229Z"
    }
   },
   "outputs": [],
   "source": [
    "np.shape(Xt)"
   ]
  },
  {
   "cell_type": "code",
   "execution_count": null,
   "metadata": {
    "ExecuteTime": {
     "start_time": "2022-03-10T12:02:34.233Z"
    }
   },
   "outputs": [],
   "source": [
    "Xt = np.zeros((2,3))\n",
    "\n",
    "Xt\n",
    "\n",
    "# iterando nas linhas\n",
    "for i in range(len(X)):\n",
    "    # iterando nas colunas\n",
    "    for j in range(len(X[0])):\n",
    "        Xt[j][i] = X[i][j]\n",
    "\n",
    "for r in Xt:\n",
    "    print(r)"
   ]
  },
  {
   "cell_type": "markdown",
   "metadata": {},
   "source": [
    "## Transpose usando compreensão de listas"
   ]
  },
  {
   "cell_type": "code",
   "execution_count": null,
   "metadata": {
    "ExecuteTime": {
     "start_time": "2022-03-10T12:02:34.482Z"
    }
   },
   "outputs": [],
   "source": [
    "X = [[12,7],\n",
    "    [4 ,5],\n",
    "    [3 ,8]]\n",
    "\n",
    "X = np.array(X)\n",
    "\n",
    "X"
   ]
  },
  {
   "cell_type": "code",
   "execution_count": null,
   "metadata": {
    "ExecuteTime": {
     "start_time": "2022-03-10T12:02:34.486Z"
    }
   },
   "outputs": [],
   "source": [
    "X[0]"
   ]
  },
  {
   "cell_type": "code",
   "execution_count": null,
   "metadata": {
    "ExecuteTime": {
     "start_time": "2022-03-10T12:02:34.490Z"
    }
   },
   "outputs": [],
   "source": [
    "len(X)"
   ]
  },
  {
   "cell_type": "code",
   "execution_count": null,
   "metadata": {
    "ExecuteTime": {
     "start_time": "2022-03-10T12:02:34.494Z"
    }
   },
   "outputs": [],
   "source": [
    "len(X[0])"
   ]
  },
  {
   "cell_type": "code",
   "execution_count": null,
   "metadata": {
    "ExecuteTime": {
     "start_time": "2022-03-10T12:02:34.498Z"
    }
   },
   "outputs": [],
   "source": [
    "Xt = [[X[j][i] for j in range(len(X))] for i in range(len(X[0]))]\n",
    "\n",
    "for r in Xt:\n",
    "    print(r)"
   ]
  },
  {
   "cell_type": "markdown",
   "metadata": {},
   "source": [
    "## Multiplicando matrizes\n",
    "\n",
    "Para que a multiplicação de matrizes seja possível, supondo uma matriz $A_{ij}$, e outra matriz $B_{nm}$, para que a multiplicação de A por B seja possível, é necessário que $j = n$, e o resultado desta multiplicação é uma matriz $C_{im}$.\n",
    "\n",
    "**Exemplo**\n",
    "\n",
    "Supondo uma matriz A(2x2), e uma matriz B(2x3), vamos calcular a multiplicação destas duas matrizes\n",
    "\n",
    "\\[A = \\begin{pmatrix}1 & 2 \\\\\n",
    "3 & 4\n",
    "\\end{pmatrix}\n",
    "\\]\n",
    "\n",
    "\\[B = \\begin{pmatrix}\n",
    "1 & 1 & 2\\\\\n",
    "3 & 4 & 1\n",
    "\\end{pmatrix}\n",
    "\\]\n",
    "\n",
    "O resultado da multiplicação de A por B resulta numa matriz C(2x3)\n",
    "\n",
    "\\[C = \\begin{pmatrix}\n",
    "c_{11} & c_{12} & c_{13}\\\\\n",
    "c_{21} & c_{22} & c_{23}\n",
    "\\end{pmatrix}\n",
    "\\]"
   ]
  },
  {
   "cell_type": "markdown",
   "metadata": {},
   "source": [
    "\\[c_{11} = a_{11} * b_{11} + a_{12}*b_{21} = 1*1 + 2*3 = 7\\]\n",
    "\n",
    "\\[c_{12} = a_{11} * b_{12} + a_{12}*b_{22} = 1*1 + 2*4 = 9\\]\n",
    "\n",
    "\\[c_{13} = a_{11} * b_{13} + a_{12}*b_{23} = 1*2 + 2*1 = 4\\]"
   ]
  },
  {
   "cell_type": "code",
   "execution_count": null,
   "metadata": {
    "ExecuteTime": {
     "start_time": "2022-03-10T12:02:34.953Z"
    }
   },
   "outputs": [],
   "source": [
    "X = [[12,7,3],\n",
    "    [4 ,5,6],\n",
    "    [7 ,8,9]]\n",
    "\n",
    "X = np.array(X)\n",
    "\n",
    "X"
   ]
  },
  {
   "cell_type": "code",
   "execution_count": null,
   "metadata": {
    "ExecuteTime": {
     "start_time": "2022-03-10T12:02:34.957Z"
    }
   },
   "outputs": [],
   "source": [
    "Y = [[5,8,1,2],\n",
    "    [6,7,3,0],\n",
    "    [4,5,9,1]]\n",
    "\n",
    "Y = np.array(Y)\n",
    "\n",
    "Y"
   ]
  },
  {
   "cell_type": "code",
   "execution_count": null,
   "metadata": {
    "ExecuteTime": {
     "start_time": "2022-03-10T12:02:34.961Z"
    }
   },
   "outputs": [],
   "source": [
    "np.matmul(X,Y)"
   ]
  },
  {
   "cell_type": "code",
   "execution_count": null,
   "metadata": {
    "ExecuteTime": {
     "start_time": "2022-03-10T12:02:34.964Z"
    }
   },
   "outputs": [],
   "source": [
    "np.matmul(Y,X)"
   ]
  },
  {
   "cell_type": "code",
   "execution_count": null,
   "metadata": {
    "ExecuteTime": {
     "start_time": "2022-03-10T12:02:34.968Z"
    }
   },
   "outputs": [],
   "source": [
    "n = len(X[0])\n",
    "\n",
    "n"
   ]
  },
  {
   "cell_type": "code",
   "execution_count": null,
   "metadata": {
    "ExecuteTime": {
     "start_time": "2022-03-10T12:02:34.972Z"
    }
   },
   "outputs": [],
   "source": [
    "m = len(Y[0])\n",
    "\n",
    "m"
   ]
  },
  {
   "cell_type": "code",
   "execution_count": null,
   "metadata": {
    "ExecuteTime": {
     "start_time": "2022-03-10T12:02:34.975Z"
    }
   },
   "outputs": [],
   "source": [
    "# definindo matriz nula/inicializando uma matriz com entradas igual a 0\n",
    "Z = np.zeros((n,m))\n",
    "\n",
    "Z"
   ]
  },
  {
   "cell_type": "code",
   "execution_count": null,
   "metadata": {
    "ExecuteTime": {
     "start_time": "2022-03-10T12:02:34.979Z"
    }
   },
   "outputs": [],
   "source": [
    "# iterando nas colunas de X\n",
    "for i in range(len(X)):\n",
    "   # iterando nas colunas de Y\n",
    "    for j in range(len(Y[0])):\n",
    "       # iterando nas linhas de Y\n",
    "        for k in range(len(Y)):\n",
    "            Z[i][j] += X[i][k] * Y[k][j]\n",
    "\n",
    "for r in Z:\n",
    "    print(r)"
   ]
  },
  {
   "cell_type": "code",
   "execution_count": null,
   "metadata": {
    "ExecuteTime": {
     "start_time": "2022-03-10T12:02:34.983Z"
    }
   },
   "outputs": [],
   "source": [
    "# usando numpy para multiplicar matrizes\n",
    "np.matmul(X, Y)"
   ]
  },
  {
   "cell_type": "markdown",
   "metadata": {},
   "source": [
    "## Definindo matrizes via for"
   ]
  },
  {
   "cell_type": "code",
   "execution_count": null,
   "metadata": {
    "ExecuteTime": {
     "start_time": "2022-03-10T12:02:35.269Z"
    }
   },
   "outputs": [],
   "source": [
    "n,m = 3,3\n",
    "\n",
    "X = np.zeros((n,m))\n",
    "\n",
    "X"
   ]
  },
  {
   "cell_type": "code",
   "execution_count": null,
   "metadata": {
    "ExecuteTime": {
     "start_time": "2022-03-10T12:02:35.273Z"
    }
   },
   "outputs": [],
   "source": [
    "def f(i,j):\n",
    "    f = (i+1)*(j+1)\n",
    "    return f\n",
    "\n",
    "f(2,3)"
   ]
  },
  {
   "cell_type": "code",
   "execution_count": null,
   "metadata": {
    "ExecuteTime": {
     "start_time": "2022-03-10T12:02:35.277Z"
    }
   },
   "outputs": [],
   "source": [
    "f(0,0)"
   ]
  },
  {
   "cell_type": "code",
   "execution_count": null,
   "metadata": {
    "ExecuteTime": {
     "start_time": "2022-03-10T12:02:35.280Z"
    }
   },
   "outputs": [],
   "source": [
    "f(0,1)"
   ]
  },
  {
   "cell_type": "code",
   "execution_count": null,
   "metadata": {
    "ExecuteTime": {
     "start_time": "2022-03-10T12:02:35.284Z"
    }
   },
   "outputs": [],
   "source": [
    "f(0,2)"
   ]
  },
  {
   "cell_type": "code",
   "execution_count": null,
   "metadata": {
    "ExecuteTime": {
     "start_time": "2022-03-10T12:02:35.288Z"
    }
   },
   "outputs": [],
   "source": [
    "f(1,0)"
   ]
  },
  {
   "cell_type": "code",
   "execution_count": null,
   "metadata": {
    "ExecuteTime": {
     "start_time": "2022-03-10T12:02:35.292Z"
    }
   },
   "outputs": [],
   "source": [
    "f(1,1)"
   ]
  },
  {
   "cell_type": "code",
   "execution_count": null,
   "metadata": {
    "ExecuteTime": {
     "start_time": "2022-03-10T12:02:35.296Z"
    }
   },
   "outputs": [],
   "source": [
    "f(1,2)"
   ]
  },
  {
   "cell_type": "code",
   "execution_count": null,
   "metadata": {
    "ExecuteTime": {
     "start_time": "2022-03-10T12:02:35.299Z"
    }
   },
   "outputs": [],
   "source": [
    "for i in range(len(X)):\n",
    "    # iterando nas colunas\n",
    "    for j in range(len(X[0])):\n",
    "        X[i][j] = f(i,j)\n",
    "        \n",
    "for r in X:\n",
    "    print(r)"
   ]
  },
  {
   "cell_type": "code",
   "execution_count": null,
   "metadata": {
    "ExecuteTime": {
     "start_time": "2022-03-10T12:02:35.303Z"
    }
   },
   "outputs": [],
   "source": [
    "X"
   ]
  },
  {
   "cell_type": "markdown",
   "metadata": {},
   "source": [
    "## Matriz identidade utilizando for aninhado"
   ]
  },
  {
   "cell_type": "code",
   "execution_count": null,
   "metadata": {
    "ExecuteTime": {
     "start_time": "2022-03-10T12:02:35.530Z"
    }
   },
   "outputs": [],
   "source": [
    "def f(i,j):\n",
    "    if i == j:\n",
    "        return 1\n",
    "    else:\n",
    "        return 0\n",
    "\n",
    "for i in range(len(X)):\n",
    "    # iterando nas colunas\n",
    "    for j in range(len(X[0])):\n",
    "        X[i][j] = f(i,j)\n",
    "        \n",
    "for r in X:\n",
    "    print(r)"
   ]
  },
  {
   "cell_type": "markdown",
   "metadata": {},
   "source": [
    "## Outro exemplo de matriz por lei de formação"
   ]
  },
  {
   "cell_type": "code",
   "execution_count": null,
   "metadata": {
    "ExecuteTime": {
     "start_time": "2022-03-10T12:02:35.747Z"
    }
   },
   "outputs": [],
   "source": [
    "def f(i,j):\n",
    "    f = i * j\n",
    "    return f\n",
    "\n",
    "for i in range(len(X)):\n",
    "    # iterando nas colunas\n",
    "    for j in range(len(X[0])):\n",
    "        X[i][j] = f(i,j)\n",
    "        \n",
    "for r in X:\n",
    "    print(r)"
   ]
  },
  {
   "cell_type": "markdown",
   "metadata": {},
   "source": [
    "## Soma da diagonal principal\n",
    "\n",
    "Esta soma da diagonal principal é também conhecida por traço da matriz (quadrada). A diagonal principal são os termos $a_{ii}$ de uma matriz A."
   ]
  },
  {
   "cell_type": "code",
   "execution_count": null,
   "metadata": {
    "ExecuteTime": {
     "start_time": "2022-03-10T12:02:35.992Z"
    }
   },
   "outputs": [],
   "source": [
    "X = [[12,7,3],\n",
    "    [4 ,5,6],\n",
    "    [7 ,8,9]]\n",
    "\n",
    "X = np.array(X)\n",
    "\n",
    "X"
   ]
  },
  {
   "cell_type": "code",
   "execution_count": null,
   "metadata": {
    "ExecuteTime": {
     "start_time": "2022-03-10T12:02:35.996Z"
    }
   },
   "outputs": [],
   "source": [
    "traco = X[0][0] + X[1][1] + X[2][2]\n",
    "\n",
    "traco"
   ]
  },
  {
   "cell_type": "code",
   "execution_count": null,
   "metadata": {
    "ExecuteTime": {
     "start_time": "2022-03-10T12:02:36.000Z"
    }
   },
   "outputs": [],
   "source": [
    "X[1:]"
   ]
  },
  {
   "cell_type": "code",
   "execution_count": null,
   "metadata": {
    "ExecuteTime": {
     "start_time": "2022-03-10T12:02:36.004Z"
    }
   },
   "outputs": [],
   "source": [
    "X[1,:]"
   ]
  },
  {
   "cell_type": "code",
   "execution_count": null,
   "metadata": {
    "ExecuteTime": {
     "start_time": "2022-03-10T12:02:36.008Z"
    }
   },
   "outputs": [],
   "source": [
    "X[:,2]"
   ]
  },
  {
   "cell_type": "code",
   "execution_count": null,
   "metadata": {
    "ExecuteTime": {
     "start_time": "2022-03-10T12:02:36.012Z"
    }
   },
   "outputs": [],
   "source": [
    "soma = 0\n",
    "traco = 0\n",
    "for i in range(len(X)):\n",
    "    traco = traco + X[i][i] \n",
    "\n",
    "traco"
   ]
  },
  {
   "cell_type": "markdown",
   "metadata": {},
   "source": [
    "## Matriz de Vandermonde\n",
    "\n",
    "Em álgebra linear, a matriz de Vandermonde, nomeada por causa de seu descobridor Alexandre-Théophile Vandermonde, é uma matriz cujos termos representam uma progressão geométrica em cada uma de suas linhas (matriz m × n)\n",
    "\n",
    "\\[ V = {\\begin{bmatrix}1&x_{1}&x_{1}^{2}&\\dots &x_{1}^{n-1}\\\\1&x_{2}&x_{2}^{2}&\\dots &x_{2}^{n-1}\\\\1&x_{3}&x_{3}^{2}&\\dots &x_{3}^{n-1}\\\\\\vdots &\\vdots &\\vdots &\\ddots &\\vdots \\\\1&x_{m}&x_{m}^{2}&\\dots &x_{m}^{n-1}\\end{bmatrix}}\\]\n",
    "\n",
    "A lei de geração da matriz de Vandermonde é\n",
    "\n",
    "\\[\\displaystyle V_{i,j}=x_{i}^{j-1}\\]"
   ]
  },
  {
   "cell_type": "code",
   "execution_count": null,
   "metadata": {
    "ExecuteTime": {
     "start_time": "2022-03-10T12:02:36.244Z"
    }
   },
   "outputs": [],
   "source": [
    "def f(n,i,j):\n",
    "    x = np.array([input(), 2, 3])\n",
    "    f = i ** (j-1)\n",
    "    return f\n",
    "\n",
    "x = np.array()\n",
    "for i in range(0,n):\n",
    "    x[i] = input()\n",
    "\n",
    "for i in range(len(X)):\n",
    "    # iterando nas colunas\n",
    "    for j in range(len(X[0])):\n",
    "        X[i][j] = f(i,j)\n",
    "        \n",
    "for r in X:\n",
    "    print(r)"
   ]
  },
  {
   "cell_type": "code",
   "execution_count": null,
   "metadata": {
    "ExecuteTime": {
     "start_time": "2022-03-10T12:02:36.249Z"
    }
   },
   "outputs": [],
   "source": [
    "# \n",
    "x = np.array([1, 2, 3])\n",
    "\n",
    "# grau da matriz de vandermonde\n",
    "n = 3\n",
    "\n",
    "# gera matriz de vandermonde\n",
    "np.vander(x, n)"
   ]
  },
  {
   "cell_type": "code",
   "execution_count": null,
   "metadata": {
    "ExecuteTime": {
     "start_time": "2022-03-10T12:02:36.253Z"
    }
   },
   "outputs": [],
   "source": [
    "# \n",
    "x = np.array([1, 2, 3])\n",
    "\n",
    "# grau da matriz de vandermonde\n",
    "n = 4\n",
    "\n",
    "# gera matriz de vandermonde\n",
    "np.vander(x, n)"
   ]
  },
  {
   "cell_type": "code",
   "execution_count": null,
   "metadata": {
    "ExecuteTime": {
     "start_time": "2022-03-10T12:02:36.257Z"
    }
   },
   "outputs": [],
   "source": [
    "# \n",
    "x = np.array([1, 2, 3, 4, 5])\n",
    "\n",
    "# grau da matriz de vandermonde\n",
    "n = 5\n",
    "\n",
    "# gera matriz de vandermonde\n",
    "np.vander(x, n)"
   ]
  },
  {
   "cell_type": "code",
   "execution_count": null,
   "metadata": {
    "ExecuteTime": {
     "start_time": "2022-03-10T12:02:36.260Z"
    }
   },
   "outputs": [],
   "source": [
    "x = []\n",
    "n = int(input('n = '))\n",
    "m = int(input('m = '))\n",
    "\n",
    "W = np.zeros((m,n))\n",
    "\n",
    "\n",
    "for i in range(m):\n",
    "    a = int(input())\n",
    "    x.append(a)\n",
    "    \n",
    "for i in range(m):\n",
    "    for j in range(n):\n",
    "        W[i][j] = x[i]**(j)\n",
    "        \n",
    "W"
   ]
  },
  {
   "cell_type": "markdown",
   "metadata": {},
   "source": [
    "## Matriz circulante"
   ]
  },
  {
   "cell_type": "code",
   "execution_count": null,
   "metadata": {
    "ExecuteTime": {
     "start_time": "2022-03-10T12:02:36.492Z"
    }
   },
   "outputs": [],
   "source": [
    "from scipy.linalg import circulant\n",
    "\n",
    "A = np.array(circulant([1, 2, 3]))\n",
    "\n",
    "A"
   ]
  },
  {
   "cell_type": "code",
   "execution_count": null,
   "metadata": {
    "ExecuteTime": {
     "start_time": "2022-03-10T12:02:36.496Z"
    }
   },
   "outputs": [],
   "source": [
    "np.transpose(A)"
   ]
  },
  {
   "cell_type": "markdown",
   "metadata": {},
   "source": [
    "# Desafios\n",
    "\n",
    "## Desafio Clark\n",
    "\n",
    "Crie uma função para calcular a soma de uma série de números dada pela seguinte lei de geração\n",
    "\n",
    "\\[S_n(k) = 1^k + 2^k + 3^k + \\cdots + n^k\\]\n",
    "\n",
    "A função deve ter como entrada os números n (número natural que varia de 0 até infinito), e o valor de k (número inteiro que varia de menos infinito a mais infinito). A função deve retornar o valor da soma dos primeiros n números naturais dada a potência k, e o tempo de execução da função. Criar um loop for para criar um dataframe para um valor fixo de k (pode escolher k = 1), que contenha o tempo de execução para cada um dos valores de n, e depois plotar a curva tempo vs n. O dataframe deve ter 2 colunas, o valor de n, e o tempo de execução para n, sendo que n pode variar de 1 até infinito. Utilize uma quantidade de pontos suficientes para plotar o gráfico de tempo vs n e perceber padrões no tempo de execução.\n",
    "\n",
    "## Desafio Luis Felipe\n",
    "\n",
    "Criar uma função para calcular as raízes de uma equação do segundo grau. A função deve ter como entrada os valores dos coeficientes (a,b,c) da função do segundo grau\n",
    "\n",
    "\\[f(x) = ax^2 + bx + c\\]\n",
    "\n",
    "A função deve retornar: o valor do x do vértice, valor do y do vértice, valor do discriminante, valor das duas raízes, gráfico da função dada pelos coeficientes (a,b,c). A função também deve calcular algebricamente as raízes mesmo em caso de raízes complexas (determinante menor que zero).\n",
    "\n",
    "## Desafio Felipe\n",
    "\n",
    "Crie uma função usando laço com for loop para receber como entrada uma matriz quadrada e a função deve retornar o traço da matriz (soma dos termos da diagonal principal), a norma_1 (soma de todos os elementos da matriz), norma_abs (soma dos valores absolutos de todos os termos da matriz), norma_2 (soma dos quadrados de todos os termos da matriz). Crie funções para definir funções das linhas e colunas de uma matriz (i,j) e as utilize para dentro de um laço for criar tipos especiais de matrizes quadradas e retornar os valores da função que retorna os valores calculados do item anterior. Defina as seguintes funções abaixo\n",
    "\n",
    "1. Matriz de Vandermonde\n",
    "2. Matriz circulante\n",
    "3. f(i,j) = 1 se i for igual a j, e f(i,j) = 0 caso contrário\n",
    "4. f(i,j) = (i+1)^(j+1)\n",
    "5. f(i,j) = (i+1)*(j+1)"
   ]
  }
 ],
 "metadata": {
  "hide_input": false,
  "kernelspec": {
   "display_name": "Python 3 (ipykernel)",
   "language": "python",
   "name": "python3"
  },
  "language_info": {
   "codemirror_mode": {
    "name": "ipython",
    "version": 3
   },
   "file_extension": ".py",
   "mimetype": "text/x-python",
   "name": "python",
   "nbconvert_exporter": "python",
   "pygments_lexer": "ipython3",
   "version": "3.9.7"
  },
  "latex_envs": {
   "LaTeX_envs_menu_present": true,
   "autoclose": false,
   "autocomplete": true,
   "bibliofile": "biblio.bib",
   "cite_by": "apalike",
   "current_citInitial": 1,
   "eqLabelWithNumbers": true,
   "eqNumInitial": 1,
   "hotkeys": {
    "equation": "Ctrl-E",
    "itemize": "Ctrl-I"
   },
   "labels_anchors": false,
   "latex_user_defs": false,
   "report_style_numbering": false,
   "user_envs_cfg": false
  },
  "toc": {
   "base_numbering": 1,
   "nav_menu": {},
   "number_sections": true,
   "sideBar": true,
   "skip_h1_title": false,
   "title_cell": "Table of Contents",
   "title_sidebar": "Contents",
   "toc_cell": false,
   "toc_position": {
    "height": "calc(100% - 180px)",
    "left": "10px",
    "top": "150px",
    "width": "362.094px"
   },
   "toc_section_display": true,
   "toc_window_display": true
  },
  "varInspector": {
   "cols": {
    "lenName": 16,
    "lenType": 16,
    "lenVar": 40
   },
   "kernels_config": {
    "python": {
     "delete_cmd_postfix": "",
     "delete_cmd_prefix": "del ",
     "library": "var_list.py",
     "varRefreshCmd": "print(var_dic_list())"
    },
    "r": {
     "delete_cmd_postfix": ") ",
     "delete_cmd_prefix": "rm(",
     "library": "var_list.r",
     "varRefreshCmd": "cat(var_dic_list()) "
    }
   },
   "types_to_exclude": [
    "module",
    "function",
    "builtin_function_or_method",
    "instance",
    "_Feature"
   ],
   "window_display": false
  }
 },
 "nbformat": 4,
 "nbformat_minor": 4
}
