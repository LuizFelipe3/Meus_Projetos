{
 "cells": [
  {
   "cell_type": "code",
   "execution_count": 1,
   "id": "b5ad0c70",
   "metadata": {
    "ExecuteTime": {
     "end_time": "2022-03-10T13:13:38.833271Z",
     "start_time": "2022-03-10T13:13:37.804279Z"
    }
   },
   "outputs": [],
   "source": [
    "from sympy import init_printing\n",
    "from sympy import *\n",
    "import sympy as sym\n",
    "import numpy as np\n",
    "import pandas as pd\n",
    "\n",
    "from sympy.abc import a, e, k, n, r, t, x, y, z, T, Z\n",
    "from sympy.abc import beta, omega, tau\n",
    "\n",
    "init_printing()\n",
    "sym.init_printing() "
   ]
  },
  {
   "cell_type": "markdown",
   "id": "0d7afbd5",
   "metadata": {},
   "source": [
    "Criar uma função para calcular as raízes de uma equação do segundo grau. A função deve ter como entrada os valores dos coeficientes (a,b,c) da função do segundo grau\n",
    "\n",
    "\\[f(x) = ax^2 + bx + c\\]\n",
    "\n",
    "A função deve retornar: o valor do x do vértice, valor do y do vértice, valor do discriminante, valor das duas raízes, gráfico da função dada pelos coeficientes (a,b,c). A função também deve calcular algebricamente as raízes mesmo em caso de raízes complexas (determinante menor que zero)."
   ]
  },
  {
   "cell_type": "markdown",
   "id": "5874ad84",
   "metadata": {},
   "source": [
    "# Discriminante"
   ]
  },
  {
   "cell_type": "code",
   "execution_count": 4,
   "id": "aaa2af5d",
   "metadata": {
    "ExecuteTime": {
     "end_time": "2022-03-10T13:13:39.788420Z",
     "start_time": "2022-03-10T13:13:39.756281Z"
    }
   },
   "outputs": [
    {
     "data": {
      "image/png": "[encoded data removed]",
      "text/latex": [
       "$\\displaystyle - 4 a c + b^{2}$"
      ],
      "text/plain": [
       "          2\n",
       "-4⋅a⋅c + b "
      ]
     },
     "execution_count": 4,
     "metadata": {},
     "output_type": "execute_result"
    }
   ],
   "source": [
    "discriminante = b**2 - 4*a*c\n",
    "\n",
    "discriminante"
   ]
  },
  {
   "cell_type": "code",
   "execution_count": 5,
   "id": "35e3068c",
   "metadata": {
    "ExecuteTime": {
     "end_time": "2022-03-10T13:13:39.816751Z",
     "start_time": "2022-03-10T13:13:39.789418Z"
    }
   },
   "outputs": [
    {
     "data": {
      "image/png": "[encoded data removed]",
      "text/latex": [
       "$\\displaystyle -32$"
      ],
      "text/plain": [
       "-32"
      ]
     },
     "execution_count": 5,
     "metadata": {},
     "output_type": "execute_result"
    }
   ],
   "source": [
    "def discriminante(a,b,c):\n",
    "    disc = b**2 - 4*a*c\n",
    "    return disc\n",
    "\n",
    "discriminante(2,4,6)"
   ]
  },
  {
   "cell_type": "markdown",
   "id": "8b29d7ce",
   "metadata": {},
   "source": [
    "# Equação segundo grau"
   ]
  },
  {
   "cell_type": "markdown",
   "id": "e6a5a0d1",
   "metadata": {},
   "source": [
    "Para calcular a equação, devemos usar a função pow, que retorna o valor de um número elevado a alguma potência especificada e pode ser usada para calcular a raiz quadrada de um número. Também, a função sqrt pode calcular a raiz quadrada, porém, retorna apenas a raiz quadrada de um número positivo."
   ]
  },
  {
   "cell_type": "code",
   "execution_count": 110,
   "id": "07029fff",
   "metadata": {
    "ExecuteTime": {
     "end_time": "2022-03-10T14:02:14.254545Z",
     "start_time": "2022-03-10T14:02:14.230590Z"
    }
   },
   "outputs": [
    {
     "name": "stdout",
     "output_type": "stream",
     "text": [
      "x1 = nan\n",
      "x2 = nan\n"
     ]
    },
    {
     "name": "stderr",
     "output_type": "stream",
     "text": [
      "C:\\Users\\felip\\AppData\\Local\\Temp/ipykernel_73272/1790573237.py:5: RuntimeWarning: invalid value encountered in sqrt\n",
      "  x1 = (-b + np.sqrt(disc))/(2*a)\n",
      "C:\\Users\\felip\\AppData\\Local\\Temp/ipykernel_73272/1790573237.py:6: RuntimeWarning: invalid value encountered in sqrt\n",
      "  x2 = (-b - np.sqrt(disc))/(2*a)\n"
     ]
    }
   ],
   "source": [
    "import numpy as np\n",
    "\n",
    "def equacao_segundo(a,b,c):\n",
    "    disc = b**2 - 4*a*c\n",
    "    x1 = (-b + np.sqrt(disc))/(2*a)\n",
    "    x2 = (-b - np.sqrt(disc))/(2*a)\n",
    "    \n",
    "    print('x1 =', x1)\n",
    "    print('x2 =', x2)\n",
    "    \n",
    "equacao_segundo(2,2,2) "
   ]
  },
  {
   "cell_type": "code",
   "execution_count": 106,
   "id": "c47addfa",
   "metadata": {
    "ExecuteTime": {
     "end_time": "2022-03-10T13:59:05.033773Z",
     "start_time": "2022-03-10T13:59:05.022392Z"
    }
   },
   "outputs": [],
   "source": [
    "x = sym.Symbol('x')\n",
    "y = sym.Symbol('y')\n",
    "a = sym.Symbol('a')\n",
    "b = sym.Symbol('b')\n",
    "c = sym.Symbol('c')"
   ]
  },
  {
   "cell_type": "code",
   "execution_count": 107,
   "id": "82b8cde3",
   "metadata": {
    "ExecuteTime": {
     "end_time": "2022-03-10T13:59:14.935256Z",
     "start_time": "2022-03-10T13:59:14.875725Z"
    }
   },
   "outputs": [
    {
     "data": {
      "image/png": "[encoded data removed]",
      "text/latex": [
       "$\\displaystyle a x^{2} + b x + c$"
      ],
      "text/plain": [
       "   2          \n",
       "a⋅x  + b⋅x + c"
      ]
     },
     "execution_count": 107,
     "metadata": {},
     "output_type": "execute_result"
    }
   ],
   "source": [
    "a*x**2 + b*x + c*x**0"
   ]
  },
  {
   "cell_type": "code",
   "execution_count": 108,
   "id": "90fd77cc",
   "metadata": {
    "ExecuteTime": {
     "end_time": "2022-03-10T13:59:53.305007Z",
     "start_time": "2022-03-10T13:59:53.265210Z"
    }
   },
   "outputs": [
    {
     "data": {
      "image/png": "[encoded data removed]",
      "text/latex": [
       "$\\displaystyle -32$"
      ],
      "text/plain": [
       "-32"
      ]
     },
     "execution_count": 108,
     "metadata": {},
     "output_type": "execute_result"
    }
   ],
   "source": [
    "def discriminante(a,b,c):\n",
    "    disc = b**2 - 4*a*c\n",
    "    return disc\n",
    "\n",
    "discriminante(2,4,6)"
   ]
  },
  {
   "cell_type": "markdown",
   "id": "24f46d66",
   "metadata": {},
   "source": [
    "# A função deve retornar: o valor do x do vértice, valor do y do vértice, valor do discriminante, valor das duas raízes, gráfico da função dada pelos coeficientes (a,b,c). A função também deve calcular algebricamente as raízes mesmo em caso de raízes complexas (determinante menor que zero)"
   ]
  },
  {
   "cell_type": "code",
   "execution_count": 159,
   "id": "2ef0ae86",
   "metadata": {
    "ExecuteTime": {
     "end_time": "2022-03-10T15:04:19.377265Z",
     "start_time": "2022-03-10T15:04:19.354500Z"
    }
   },
   "outputs": [],
   "source": [
    "def equacao(a,b,c):\n",
    "     \n",
    "    disc = b**2 - 4*a*c\n",
    "    \n",
    "    print('Discriminante = ', disc)\n",
    "        \n",
    "    x1 = (-b + pow(disc,1/2))/(2*a)\n",
    "    x2 = (-b - pow(disc,1/2))/(2*a)\n",
    "    x_v = -b/(2*a)\n",
    "    y_v = a*x_v**2 + b*x_v + c\n",
    "    yv2 = - disc/(4*a)\n",
    "\n",
    "    print('x1 =', x1)\n",
    "    print('x2 =', x2)\n",
    "    print ('x_v', x_v)\n",
    "    print ('y_v', y_v)\n",
    "    print ('yv2', yv2)\n",
    "    x = sym.Symbol('x')\n",
    "    expr = a*x**2 + b*x + c\n",
    "    sym.plot(expr)\n",
    "\n",
    "\n",
    "    return x1, x2,x_v,y_v,yv2"
   ]
  },
  {
   "cell_type": "code",
   "execution_count": 171,
   "id": "cb8fe8d9",
   "metadata": {
    "ExecuteTime": {
     "end_time": "2022-03-10T15:09:45.585401Z",
     "start_time": "2022-03-10T15:09:45.268642Z"
    }
   },
   "outputs": [
    {
     "data": {
      "image/png": "[encoded data removed]",
      "text/plain": [
       "<Figure size 432x288 with 1 Axes>"
      ]
     },
     "metadata": {
      "needs_background": "light"
     },
     "output_type": "display_data"
    },
    {
     "data": {
      "text/plain": [
       "<sympy.plotting.plot.Plot at 0x21a3a945f40>"
      ]
     },
     "execution_count": 171,
     "metadata": {},
     "output_type": "execute_result"
    }
   ],
   "source": [
    "expr = 0*x**2 + 200*x + 300\n",
    "sym.plot(expr)"
   ]
  },
  {
   "cell_type": "code",
   "execution_count": 164,
   "id": "b065df14",
   "metadata": {
    "ExecuteTime": {
     "end_time": "2022-03-10T15:06:45.978819Z",
     "start_time": "2022-03-10T15:06:45.643400Z"
    },
    "scrolled": false
   },
   "outputs": [
    {
     "name": "stdout",
     "output_type": "stream",
     "text": [
      "Discriminante =  -575\n",
      "x1 = (-1.25+1.1989578808281798j)\n",
      "x2 = (-1.25-1.1989578808281798j)\n",
      "x_v -1.25\n",
      "y_v 14.375\n",
      "yv2 14.375\n"
     ]
    },
    {
     "data": {
      "image/png": "[encoded data removed]",
      "text/plain": [
       "<Figure size 432x288 with 1 Axes>"
      ]
     },
     "metadata": {
      "needs_background": "light"
     },
     "output_type": "display_data"
    },
    {
     "data": {
      "text/plain": [
       "((-1.25+1.1989578808281798j),\n",
       " (-1.25-1.1989578808281798j),\n",
       " -1.25,\n",
       " 14.375,\n",
       " 14.375)"
      ]
     },
     "execution_count": 164,
     "metadata": {},
     "output_type": "execute_result"
    }
   ],
   "source": [
    "# Discriminante menor que 0\n",
    "equacao(a = 10,b = 25,c = 30)"
   ]
  },
  {
   "cell_type": "markdown",
   "id": "5de82229",
   "metadata": {},
   "source": [
    "A segunda equação não possui raízes reais, mas o Python calcula as raízes na forma de números complexos, retornando os valores (aproximados) -0.499 + 0.86j e -0.5 – 0.86j (o python usa a letra j em vez de i para a parte imaginária de um número complexo)."
   ]
  },
  {
   "cell_type": "markdown",
   "id": "94c6701b",
   "metadata": {
    "ExecuteTime": {
     "end_time": "2022-03-10T14:05:34.331348Z",
     "start_time": "2022-03-10T14:05:34.294104Z"
    }
   },
   "source": [
    "O x do vértice $(x_V)$ é dado pela relação\n",
    "\n",
    "\\[x_V = - \\frac{b}{2a}\\]\n",
    "\n",
    "O y do vértice é dado pelo valor da função quadrática calculada no valor do x do vértice, ou seja\n",
    "\n",
    "\\[y_V = f(x_V) = ax_V^2 + bx_V + c\\]"
   ]
  }
 ],
 "metadata": {
  "hide_input": false,
  "kernelspec": {
   "display_name": "Python 3 (ipykernel)",
   "language": "python",
   "name": "python3"
  },
  "language_info": {
   "codemirror_mode": {
    "name": "ipython",
    "version": 3
   },
   "file_extension": ".py",
   "mimetype": "text/x-python",
   "name": "python",
   "nbconvert_exporter": "python",
   "pygments_lexer": "ipython3",
   "version": "3.9.7"
  },
  "latex_envs": {
   "LaTeX_envs_menu_present": true,
   "autoclose": false,
   "autocomplete": true,
   "bibliofile": "biblio.bib",
   "cite_by": "apalike",
   "current_citInitial": 1,
   "eqLabelWithNumbers": true,
   "eqNumInitial": 1,
   "hotkeys": {
    "equation": "Ctrl-E",
    "itemize": "Ctrl-I"
   },
   "labels_anchors": false,
   "latex_user_defs": false,
   "report_style_numbering": false,
   "user_envs_cfg": false
  },
  "toc": {
   "base_numbering": 1,
   "nav_menu": {},
   "number_sections": true,
   "sideBar": true,
   "skip_h1_title": false,
   "title_cell": "Table of Contents",
   "title_sidebar": "Contents",
   "toc_cell": false,
   "toc_position": {},
   "toc_section_display": true,
   "toc_window_display": false
  },
  "varInspector": {
   "cols": {
    "lenName": 16,
    "lenType": 16,
    "lenVar": 40
   },
   "kernels_config": {
    "python": {
     "delete_cmd_postfix": "",
     "delete_cmd_prefix": "del ",
     "library": "var_list.py",
     "varRefreshCmd": "print(var_dic_list())"
    },
    "r": {
     "delete_cmd_postfix": ") ",
     "delete_cmd_prefix": "rm(",
     "library": "var_list.r",
     "varRefreshCmd": "cat(var_dic_list()) "
    }
   },
   "types_to_exclude": [
    "module",
    "function",
    "builtin_function_or_method",
    "instance",
    "_Feature"
   ],
   "window_display": false
  }
 },
 "nbformat": 4,
 "nbformat_minor": 5
}
