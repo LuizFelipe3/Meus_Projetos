{
 "cells": [
  {
   "cell_type": "code",
   "execution_count": 8,
   "id": "49cb31a8",
   "metadata": {},
   "outputs": [
    {
     "name": "stdout",
     "output_type": "stream",
     "text": [
      "Olá, mundo!\n",
      "Curso, Didática Tech\n",
      "Oi Tudo bem?\n"
     ]
    }
   ],
   "source": [
    "#Imprimir uma mensagem na tela (jogo da velha usa para comentar código em python)\n",
    "print ('Olá, mundo!')\n",
    "print ('Curso, Didática Tech')\n",
    "print ('Oi' ' ' 'Tudo bem?')"
   ]
  },
  {
   "cell_type": "code",
   "execution_count": 13,
   "id": "58771858",
   "metadata": {},
   "outputs": [
    {
     "name": "stdout",
     "output_type": "stream",
     "text": [
      "6\n",
      "50\n",
      "7\n",
      "2.0\n",
      "4\n",
      "2\n",
      "1\n"
     ]
    }
   ],
   "source": [
    "#Operadores aritimeticos \n",
    "print (5+1) #Soma\n",
    "print (10*5) #Multiplicação\n",
    "print (8-1) #Subtração\n",
    "print (10/5) #Divisão\n",
    "print (2**2) #Potência \n",
    "print (5//2) #Inteiro da divisão\n",
    "print (5%2) #Resto da divisão "
   ]
  },
  {
   "cell_type": "code",
   "execution_count": 17,
   "id": "67439a32",
   "metadata": {},
   "outputs": [
    {
     "data": {
      "text/plain": [
       "True"
      ]
     },
     "execution_count": 17,
     "metadata": {},
     "output_type": "execute_result"
    }
   ],
   "source": [
    "#Variáveis e tipo de dados\n",
    "a = 5 #Atribui o valor de 5 em a\n",
    "a == 5 #Sinal de igual, verifica se o a é igual a 5\n"
   ]
  },
  {
   "cell_type": "code",
   "execution_count": 18,
   "id": "159676aa",
   "metadata": {},
   "outputs": [
    {
     "name": "stdout",
     "output_type": "stream",
     "text": [
      "12\n"
     ]
    }
   ],
   "source": [
    "b = 7\n",
    "c = a+b\n",
    "print (c)"
   ]
  },
  {
   "cell_type": "code",
   "execution_count": 20,
   "id": "a7b282b1",
   "metadata": {},
   "outputs": [
    {
     "name": "stdout",
     "output_type": "stream",
     "text": [
      "9\n"
     ]
    }
   ],
   "source": [
    "variavel1 = 3\n",
    "variavel2 = 4\n",
    "variavel1 = 9 #Como já tinha atribuido o valor de 3 na variavel 1, quando atribui novamente, ele substitui o valor\n",
    "\n",
    "print (variavel1)"
   ]
  },
  {
   "cell_type": "code",
   "execution_count": 22,
   "id": "7af4bba1",
   "metadata": {},
   "outputs": [],
   "source": [
    "var = 4\n",
    "var2 = 3.5"
   ]
  },
  {
   "cell_type": "code",
   "execution_count": 23,
   "id": "ba079f8e",
   "metadata": {},
   "outputs": [
    {
     "data": {
      "text/plain": [
       "int"
      ]
     },
     "execution_count": 23,
     "metadata": {},
     "output_type": "execute_result"
    }
   ],
   "source": [
    "type (var)"
   ]
  },
  {
   "cell_type": "code",
   "execution_count": 24,
   "id": "71af31fc",
   "metadata": {},
   "outputs": [
    {
     "data": {
      "text/plain": [
       "float"
      ]
     },
     "execution_count": 24,
     "metadata": {},
     "output_type": "execute_result"
    }
   ],
   "source": [
    "type (var2)"
   ]
  },
  {
   "cell_type": "code",
   "execution_count": 26,
   "id": "25dc0b34",
   "metadata": {},
   "outputs": [],
   "source": [
    "palavra = 'curso'"
   ]
  },
  {
   "cell_type": "code",
   "execution_count": 27,
   "id": "0190c079",
   "metadata": {},
   "outputs": [
    {
     "data": {
      "text/plain": [
       "str"
      ]
     },
     "execution_count": 27,
     "metadata": {},
     "output_type": "execute_result"
    }
   ],
   "source": [
    "type (palavra)"
   ]
  }
 ],
 "metadata": {
  "kernelspec": {
   "display_name": "Python 3 (ipykernel)",
   "language": "python",
   "name": "python3"
  },
  "language_info": {
   "codemirror_mode": {
    "name": "ipython",
    "version": 3
   },
   "file_extension": ".py",
   "mimetype": "text/x-python",
   "name": "python",
   "nbconvert_exporter": "python",
   "pygments_lexer": "ipython3",
   "version": "3.9.7"
  }
 },
 "nbformat": 4,
 "nbformat_minor": 5
}
